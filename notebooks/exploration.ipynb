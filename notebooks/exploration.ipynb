{
  "nbformat": 4,
  "nbformat_minor": 0,
  "metadata": {
    "colab": {
      "provenance": []
    },
    "kernelspec": {
      "name": "python3",
      "display_name": "Python 3"
    },
    "language_info": {
      "name": "python"
    },
    "widgets": {
      "application/vnd.jupyter.widget-state+json": {
        "7d7deca458f5443f8cebb3c4a90901c8": {
          "model_module": "@jupyter-widgets/controls",
          "model_name": "HBoxModel",
          "model_module_version": "1.5.0",
          "state": {
            "_dom_classes": [],
            "_model_module": "@jupyter-widgets/controls",
            "_model_module_version": "1.5.0",
            "_model_name": "HBoxModel",
            "_view_count": null,
            "_view_module": "@jupyter-widgets/controls",
            "_view_module_version": "1.5.0",
            "_view_name": "HBoxView",
            "box_style": "",
            "children": [
              "IPY_MODEL_80ba794116614a94ae3c7cefe8a983bb",
              "IPY_MODEL_3f9f8b917d4f46969c6185dbe39c11e9",
              "IPY_MODEL_b4552c3cbf0448adbd26d8cd7631b98d"
            ],
            "layout": "IPY_MODEL_61f5a82867c04cc888302ea83ed36060"
          }
        },
        "80ba794116614a94ae3c7cefe8a983bb": {
          "model_module": "@jupyter-widgets/controls",
          "model_name": "HTMLModel",
          "model_module_version": "1.5.0",
          "state": {
            "_dom_classes": [],
            "_model_module": "@jupyter-widgets/controls",
            "_model_module_version": "1.5.0",
            "_model_name": "HTMLModel",
            "_view_count": null,
            "_view_module": "@jupyter-widgets/controls",
            "_view_module_version": "1.5.0",
            "_view_name": "HTMLView",
            "description": "",
            "description_tooltip": null,
            "layout": "IPY_MODEL_eed9855e1d7946919a4a704930452498",
            "placeholder": "​",
            "style": "IPY_MODEL_9a7817d044a8425db34f384d42770766",
            "value": "Downloading builder script: 100%"
          }
        },
        "3f9f8b917d4f46969c6185dbe39c11e9": {
          "model_module": "@jupyter-widgets/controls",
          "model_name": "FloatProgressModel",
          "model_module_version": "1.5.0",
          "state": {
            "_dom_classes": [],
            "_model_module": "@jupyter-widgets/controls",
            "_model_module_version": "1.5.0",
            "_model_name": "FloatProgressModel",
            "_view_count": null,
            "_view_module": "@jupyter-widgets/controls",
            "_view_module_version": "1.5.0",
            "_view_name": "ProgressView",
            "bar_style": "success",
            "description": "",
            "description_tooltip": null,
            "layout": "IPY_MODEL_938e9798ce6b47779e7708a172e9bd09",
            "max": 5514,
            "min": 0,
            "orientation": "horizontal",
            "style": "IPY_MODEL_0b548bb1331b4680bcecd9478d373a1b",
            "value": 5514
          }
        },
        "b4552c3cbf0448adbd26d8cd7631b98d": {
          "model_module": "@jupyter-widgets/controls",
          "model_name": "HTMLModel",
          "model_module_version": "1.5.0",
          "state": {
            "_dom_classes": [],
            "_model_module": "@jupyter-widgets/controls",
            "_model_module_version": "1.5.0",
            "_model_name": "HTMLModel",
            "_view_count": null,
            "_view_module": "@jupyter-widgets/controls",
            "_view_module_version": "1.5.0",
            "_view_name": "HTMLView",
            "description": "",
            "description_tooltip": null,
            "layout": "IPY_MODEL_7d3780196023473abdcd1247f60aac86",
            "placeholder": "​",
            "style": "IPY_MODEL_c846f28c611747a78ac6cd91cf1fa261",
            "value": " 5.51k/5.51k [00:00&lt;00:00, 215kB/s]"
          }
        },
        "61f5a82867c04cc888302ea83ed36060": {
          "model_module": "@jupyter-widgets/base",
          "model_name": "LayoutModel",
          "model_module_version": "1.2.0",
          "state": {
            "_model_module": "@jupyter-widgets/base",
            "_model_module_version": "1.2.0",
            "_model_name": "LayoutModel",
            "_view_count": null,
            "_view_module": "@jupyter-widgets/base",
            "_view_module_version": "1.2.0",
            "_view_name": "LayoutView",
            "align_content": null,
            "align_items": null,
            "align_self": null,
            "border": null,
            "bottom": null,
            "display": null,
            "flex": null,
            "flex_flow": null,
            "grid_area": null,
            "grid_auto_columns": null,
            "grid_auto_flow": null,
            "grid_auto_rows": null,
            "grid_column": null,
            "grid_gap": null,
            "grid_row": null,
            "grid_template_areas": null,
            "grid_template_columns": null,
            "grid_template_rows": null,
            "height": null,
            "justify_content": null,
            "justify_items": null,
            "left": null,
            "margin": null,
            "max_height": null,
            "max_width": null,
            "min_height": null,
            "min_width": null,
            "object_fit": null,
            "object_position": null,
            "order": null,
            "overflow": null,
            "overflow_x": null,
            "overflow_y": null,
            "padding": null,
            "right": null,
            "top": null,
            "visibility": null,
            "width": null
          }
        },
        "eed9855e1d7946919a4a704930452498": {
          "model_module": "@jupyter-widgets/base",
          "model_name": "LayoutModel",
          "model_module_version": "1.2.0",
          "state": {
            "_model_module": "@jupyter-widgets/base",
            "_model_module_version": "1.2.0",
            "_model_name": "LayoutModel",
            "_view_count": null,
            "_view_module": "@jupyter-widgets/base",
            "_view_module_version": "1.2.0",
            "_view_name": "LayoutView",
            "align_content": null,
            "align_items": null,
            "align_self": null,
            "border": null,
            "bottom": null,
            "display": null,
            "flex": null,
            "flex_flow": null,
            "grid_area": null,
            "grid_auto_columns": null,
            "grid_auto_flow": null,
            "grid_auto_rows": null,
            "grid_column": null,
            "grid_gap": null,
            "grid_row": null,
            "grid_template_areas": null,
            "grid_template_columns": null,
            "grid_template_rows": null,
            "height": null,
            "justify_content": null,
            "justify_items": null,
            "left": null,
            "margin": null,
            "max_height": null,
            "max_width": null,
            "min_height": null,
            "min_width": null,
            "object_fit": null,
            "object_position": null,
            "order": null,
            "overflow": null,
            "overflow_x": null,
            "overflow_y": null,
            "padding": null,
            "right": null,
            "top": null,
            "visibility": null,
            "width": null
          }
        },
        "9a7817d044a8425db34f384d42770766": {
          "model_module": "@jupyter-widgets/controls",
          "model_name": "DescriptionStyleModel",
          "model_module_version": "1.5.0",
          "state": {
            "_model_module": "@jupyter-widgets/controls",
            "_model_module_version": "1.5.0",
            "_model_name": "DescriptionStyleModel",
            "_view_count": null,
            "_view_module": "@jupyter-widgets/base",
            "_view_module_version": "1.2.0",
            "_view_name": "StyleView",
            "description_width": ""
          }
        },
        "938e9798ce6b47779e7708a172e9bd09": {
          "model_module": "@jupyter-widgets/base",
          "model_name": "LayoutModel",
          "model_module_version": "1.2.0",
          "state": {
            "_model_module": "@jupyter-widgets/base",
            "_model_module_version": "1.2.0",
            "_model_name": "LayoutModel",
            "_view_count": null,
            "_view_module": "@jupyter-widgets/base",
            "_view_module_version": "1.2.0",
            "_view_name": "LayoutView",
            "align_content": null,
            "align_items": null,
            "align_self": null,
            "border": null,
            "bottom": null,
            "display": null,
            "flex": null,
            "flex_flow": null,
            "grid_area": null,
            "grid_auto_columns": null,
            "grid_auto_flow": null,
            "grid_auto_rows": null,
            "grid_column": null,
            "grid_gap": null,
            "grid_row": null,
            "grid_template_areas": null,
            "grid_template_columns": null,
            "grid_template_rows": null,
            "height": null,
            "justify_content": null,
            "justify_items": null,
            "left": null,
            "margin": null,
            "max_height": null,
            "max_width": null,
            "min_height": null,
            "min_width": null,
            "object_fit": null,
            "object_position": null,
            "order": null,
            "overflow": null,
            "overflow_x": null,
            "overflow_y": null,
            "padding": null,
            "right": null,
            "top": null,
            "visibility": null,
            "width": null
          }
        },
        "0b548bb1331b4680bcecd9478d373a1b": {
          "model_module": "@jupyter-widgets/controls",
          "model_name": "ProgressStyleModel",
          "model_module_version": "1.5.0",
          "state": {
            "_model_module": "@jupyter-widgets/controls",
            "_model_module_version": "1.5.0",
            "_model_name": "ProgressStyleModel",
            "_view_count": null,
            "_view_module": "@jupyter-widgets/base",
            "_view_module_version": "1.2.0",
            "_view_name": "StyleView",
            "bar_color": null,
            "description_width": ""
          }
        },
        "7d3780196023473abdcd1247f60aac86": {
          "model_module": "@jupyter-widgets/base",
          "model_name": "LayoutModel",
          "model_module_version": "1.2.0",
          "state": {
            "_model_module": "@jupyter-widgets/base",
            "_model_module_version": "1.2.0",
            "_model_name": "LayoutModel",
            "_view_count": null,
            "_view_module": "@jupyter-widgets/base",
            "_view_module_version": "1.2.0",
            "_view_name": "LayoutView",
            "align_content": null,
            "align_items": null,
            "align_self": null,
            "border": null,
            "bottom": null,
            "display": null,
            "flex": null,
            "flex_flow": null,
            "grid_area": null,
            "grid_auto_columns": null,
            "grid_auto_flow": null,
            "grid_auto_rows": null,
            "grid_column": null,
            "grid_gap": null,
            "grid_row": null,
            "grid_template_areas": null,
            "grid_template_columns": null,
            "grid_template_rows": null,
            "height": null,
            "justify_content": null,
            "justify_items": null,
            "left": null,
            "margin": null,
            "max_height": null,
            "max_width": null,
            "min_height": null,
            "min_width": null,
            "object_fit": null,
            "object_position": null,
            "order": null,
            "overflow": null,
            "overflow_x": null,
            "overflow_y": null,
            "padding": null,
            "right": null,
            "top": null,
            "visibility": null,
            "width": null
          }
        },
        "c846f28c611747a78ac6cd91cf1fa261": {
          "model_module": "@jupyter-widgets/controls",
          "model_name": "DescriptionStyleModel",
          "model_module_version": "1.5.0",
          "state": {
            "_model_module": "@jupyter-widgets/controls",
            "_model_module_version": "1.5.0",
            "_model_name": "DescriptionStyleModel",
            "_view_count": null,
            "_view_module": "@jupyter-widgets/base",
            "_view_module_version": "1.2.0",
            "_view_name": "StyleView",
            "description_width": ""
          }
        }
      }
    }
  },
  "cells": [
    {
      "cell_type": "markdown",
      "source": [
        "# Instalando libs"
      ],
      "metadata": {
        "id": "4Aw4ME71UjE-"
      }
    },
    {
      "cell_type": "code",
      "source": [
        "!pip install rank_bm25\n",
        "!pip install evaluate\n",
        "!pip install trectools"
      ],
      "metadata": {
        "colab": {
          "base_uri": "https://localhost:8080/"
        },
        "id": "3pQINx5fUhRj",
        "outputId": "7f293723-a219-4299-f321-be710ae9cf16"
      },
      "execution_count": 1,
      "outputs": [
        {
          "output_type": "stream",
          "name": "stdout",
          "text": [
            "Looking in indexes: https://pypi.org/simple, https://us-python.pkg.dev/colab-wheels/public/simple/\n",
            "Collecting rank_bm25\n",
            "  Downloading rank_bm25-0.2.2-py3-none-any.whl (8.6 kB)\n",
            "Requirement already satisfied: numpy in /usr/local/lib/python3.8/dist-packages (from rank_bm25) (1.21.6)\n",
            "Installing collected packages: rank_bm25\n",
            "Successfully installed rank_bm25-0.2.2\n",
            "Looking in indexes: https://pypi.org/simple, https://us-python.pkg.dev/colab-wheels/public/simple/\n",
            "Collecting evaluate\n",
            "  Downloading evaluate-0.4.0-py3-none-any.whl (81 kB)\n",
            "\u001b[2K     \u001b[90m━━━━━━━━━━━━━━━━━━━━━━━━━━━━━━━━━━━━━━━\u001b[0m \u001b[32m81.4/81.4 KB\u001b[0m \u001b[31m765.9 kB/s\u001b[0m eta \u001b[36m0:00:00\u001b[0m\n",
            "\u001b[?25hRequirement already satisfied: requests>=2.19.0 in /usr/local/lib/python3.8/dist-packages (from evaluate) (2.25.1)\n",
            "Collecting datasets>=2.0.0\n",
            "  Downloading datasets-2.9.0-py3-none-any.whl (462 kB)\n",
            "\u001b[2K     \u001b[90m━━━━━━━━━━━━━━━━━━━━━━━━━━━━━━━━━━━━━━\u001b[0m \u001b[32m462.8/462.8 KB\u001b[0m \u001b[31m14.6 MB/s\u001b[0m eta \u001b[36m0:00:00\u001b[0m\n",
            "\u001b[?25hRequirement already satisfied: fsspec[http]>=2021.05.0 in /usr/local/lib/python3.8/dist-packages (from evaluate) (2023.1.0)\n",
            "Requirement already satisfied: numpy>=1.17 in /usr/local/lib/python3.8/dist-packages (from evaluate) (1.21.6)\n",
            "Requirement already satisfied: packaging in /usr/local/lib/python3.8/dist-packages (from evaluate) (23.0)\n",
            "Requirement already satisfied: tqdm>=4.62.1 in /usr/local/lib/python3.8/dist-packages (from evaluate) (4.64.1)\n",
            "Requirement already satisfied: dill in /usr/local/lib/python3.8/dist-packages (from evaluate) (0.3.6)\n",
            "Collecting xxhash\n",
            "  Downloading xxhash-3.2.0-cp38-cp38-manylinux_2_17_x86_64.manylinux2014_x86_64.whl (213 kB)\n",
            "\u001b[2K     \u001b[90m━━━━━━━━━━━━━━━━━━━━━━━━━━━━━━━━━━━━━━━\u001b[0m \u001b[32m213.0/213.0 KB\u001b[0m \u001b[31m6.0 MB/s\u001b[0m eta \u001b[36m0:00:00\u001b[0m\n",
            "\u001b[?25hCollecting multiprocess\n",
            "  Downloading multiprocess-0.70.14-py38-none-any.whl (132 kB)\n",
            "\u001b[2K     \u001b[90m━━━━━━━━━━━━━━━━━━━━━━━━━━━━━━━━━━━━━━━\u001b[0m \u001b[32m132.0/132.0 KB\u001b[0m \u001b[31m4.2 MB/s\u001b[0m eta \u001b[36m0:00:00\u001b[0m\n",
            "\u001b[?25hCollecting responses<0.19\n",
            "  Downloading responses-0.18.0-py3-none-any.whl (38 kB)\n",
            "Requirement already satisfied: pandas in /usr/local/lib/python3.8/dist-packages (from evaluate) (1.3.5)\n",
            "Collecting huggingface-hub>=0.7.0\n",
            "  Downloading huggingface_hub-0.12.1-py3-none-any.whl (190 kB)\n",
            "\u001b[2K     \u001b[90m━━━━━━━━━━━━━━━━━━━━━━━━━━━━━━━━━━━━━━━\u001b[0m \u001b[32m190.3/190.3 KB\u001b[0m \u001b[31m7.4 MB/s\u001b[0m eta \u001b[36m0:00:00\u001b[0m\n",
            "\u001b[?25hRequirement already satisfied: pyyaml>=5.1 in /usr/local/lib/python3.8/dist-packages (from datasets>=2.0.0->evaluate) (6.0)\n",
            "Requirement already satisfied: aiohttp in /usr/local/lib/python3.8/dist-packages (from datasets>=2.0.0->evaluate) (3.8.4)\n",
            "Requirement already satisfied: pyarrow>=6.0.0 in /usr/local/lib/python3.8/dist-packages (from datasets>=2.0.0->evaluate) (9.0.0)\n",
            "Requirement already satisfied: filelock in /usr/local/lib/python3.8/dist-packages (from huggingface-hub>=0.7.0->evaluate) (3.9.0)\n",
            "Requirement already satisfied: typing-extensions>=3.7.4.3 in /usr/local/lib/python3.8/dist-packages (from huggingface-hub>=0.7.0->evaluate) (4.5.0)\n",
            "Requirement already satisfied: certifi>=2017.4.17 in /usr/local/lib/python3.8/dist-packages (from requests>=2.19.0->evaluate) (2022.12.7)\n",
            "Requirement already satisfied: urllib3<1.27,>=1.21.1 in /usr/local/lib/python3.8/dist-packages (from requests>=2.19.0->evaluate) (1.24.3)\n",
            "Requirement already satisfied: chardet<5,>=3.0.2 in /usr/local/lib/python3.8/dist-packages (from requests>=2.19.0->evaluate) (4.0.0)\n",
            "Requirement already satisfied: idna<3,>=2.5 in /usr/local/lib/python3.8/dist-packages (from requests>=2.19.0->evaluate) (2.10)\n",
            "Collecting urllib3<1.27,>=1.21.1\n",
            "  Downloading urllib3-1.26.14-py2.py3-none-any.whl (140 kB)\n",
            "\u001b[2K     \u001b[90m━━━━━━━━━━━━━━━━━━━━━━━━━━━━━━━━━━━━━━━\u001b[0m \u001b[32m140.6/140.6 KB\u001b[0m \u001b[31m3.5 MB/s\u001b[0m eta \u001b[36m0:00:00\u001b[0m\n",
            "\u001b[?25hRequirement already satisfied: pytz>=2017.3 in /usr/local/lib/python3.8/dist-packages (from pandas->evaluate) (2022.7.1)\n",
            "Requirement already satisfied: python-dateutil>=2.7.3 in /usr/local/lib/python3.8/dist-packages (from pandas->evaluate) (2.8.2)\n",
            "Requirement already satisfied: async-timeout<5.0,>=4.0.0a3 in /usr/local/lib/python3.8/dist-packages (from aiohttp->datasets>=2.0.0->evaluate) (4.0.2)\n",
            "Requirement already satisfied: multidict<7.0,>=4.5 in /usr/local/lib/python3.8/dist-packages (from aiohttp->datasets>=2.0.0->evaluate) (6.0.4)\n",
            "Requirement already satisfied: attrs>=17.3.0 in /usr/local/lib/python3.8/dist-packages (from aiohttp->datasets>=2.0.0->evaluate) (22.2.0)\n",
            "Requirement already satisfied: frozenlist>=1.1.1 in /usr/local/lib/python3.8/dist-packages (from aiohttp->datasets>=2.0.0->evaluate) (1.3.3)\n",
            "Requirement already satisfied: aiosignal>=1.1.2 in /usr/local/lib/python3.8/dist-packages (from aiohttp->datasets>=2.0.0->evaluate) (1.3.1)\n",
            "Requirement already satisfied: charset-normalizer<4.0,>=2.0 in /usr/local/lib/python3.8/dist-packages (from aiohttp->datasets>=2.0.0->evaluate) (3.0.1)\n",
            "Requirement already satisfied: yarl<2.0,>=1.0 in /usr/local/lib/python3.8/dist-packages (from aiohttp->datasets>=2.0.0->evaluate) (1.8.2)\n",
            "Requirement already satisfied: six>=1.5 in /usr/local/lib/python3.8/dist-packages (from python-dateutil>=2.7.3->pandas->evaluate) (1.15.0)\n",
            "Installing collected packages: xxhash, urllib3, multiprocess, responses, huggingface-hub, datasets, evaluate\n",
            "  Attempting uninstall: urllib3\n",
            "    Found existing installation: urllib3 1.24.3\n",
            "    Uninstalling urllib3-1.24.3:\n",
            "      Successfully uninstalled urllib3-1.24.3\n",
            "Successfully installed datasets-2.9.0 evaluate-0.4.0 huggingface-hub-0.12.1 multiprocess-0.70.14 responses-0.18.0 urllib3-1.26.14 xxhash-3.2.0\n",
            "Looking in indexes: https://pypi.org/simple, https://us-python.pkg.dev/colab-wheels/public/simple/\n",
            "Collecting trectools\n",
            "  Downloading trectools-0.0.49.tar.gz (28 kB)\n",
            "  Preparing metadata (setup.py) ... \u001b[?25l\u001b[?25hdone\n",
            "Requirement already satisfied: pandas>=0.15.0 in /usr/local/lib/python3.8/dist-packages (from trectools) (1.3.5)\n",
            "Requirement already satisfied: numpy>=1.0.0 in /usr/local/lib/python3.8/dist-packages (from trectools) (1.21.6)\n",
            "Requirement already satisfied: scikit-learn>=0.15 in /usr/local/lib/python3.8/dist-packages (from trectools) (1.0.2)\n",
            "Requirement already satisfied: scipy>=0.10.0 in /usr/local/lib/python3.8/dist-packages (from trectools) (1.7.3)\n",
            "Collecting sarge>=0.1.1\n",
            "  Downloading sarge-0.1.7.post1-py2.py3-none-any.whl (18 kB)\n",
            "Requirement already satisfied: lxml>=3.6.0 in /usr/local/lib/python3.8/dist-packages (from trectools) (4.9.2)\n",
            "Requirement already satisfied: bs4>=0.0.0.1 in /usr/local/lib/python3.8/dist-packages (from trectools) (0.0.1)\n",
            "Requirement already satisfied: matplotlib>=1.5 in /usr/local/lib/python3.8/dist-packages (from trectools) (3.2.2)\n",
            "Requirement already satisfied: beautifulsoup4 in /usr/local/lib/python3.8/dist-packages (from bs4>=0.0.0.1->trectools) (4.6.3)\n",
            "Requirement already satisfied: kiwisolver>=1.0.1 in /usr/local/lib/python3.8/dist-packages (from matplotlib>=1.5->trectools) (1.4.4)\n",
            "Requirement already satisfied: python-dateutil>=2.1 in /usr/local/lib/python3.8/dist-packages (from matplotlib>=1.5->trectools) (2.8.2)\n",
            "Requirement already satisfied: pyparsing!=2.0.4,!=2.1.2,!=2.1.6,>=2.0.1 in /usr/local/lib/python3.8/dist-packages (from matplotlib>=1.5->trectools) (3.0.9)\n",
            "Requirement already satisfied: cycler>=0.10 in /usr/local/lib/python3.8/dist-packages (from matplotlib>=1.5->trectools) (0.11.0)\n",
            "Requirement already satisfied: pytz>=2017.3 in /usr/local/lib/python3.8/dist-packages (from pandas>=0.15.0->trectools) (2022.7.1)\n",
            "Requirement already satisfied: threadpoolctl>=2.0.0 in /usr/local/lib/python3.8/dist-packages (from scikit-learn>=0.15->trectools) (3.1.0)\n",
            "Requirement already satisfied: joblib>=0.11 in /usr/local/lib/python3.8/dist-packages (from scikit-learn>=0.15->trectools) (1.2.0)\n",
            "Requirement already satisfied: six>=1.5 in /usr/local/lib/python3.8/dist-packages (from python-dateutil>=2.1->matplotlib>=1.5->trectools) (1.15.0)\n",
            "Building wheels for collected packages: trectools\n",
            "  Building wheel for trectools (setup.py) ... \u001b[?25l\u001b[?25hdone\n",
            "  Created wheel for trectools: filename=trectools-0.0.49-py3-none-any.whl size=27140 sha256=7d77c2a5daf0d6d26c1ccaa19b26a3dc534f6657aa5f27dab35527b34b8d454d\n",
            "  Stored in directory: /root/.cache/pip/wheels/6a/cd/17/9a6b28af70445d948c97018b43b9181acd2fdd23e115ee2055\n",
            "Successfully built trectools\n",
            "Installing collected packages: sarge, trectools\n",
            "Successfully installed sarge-0.1.7.post1 trectools-0.0.49\n"
          ]
        }
      ]
    },
    {
      "cell_type": "markdown",
      "source": [
        "# Montando o drive"
      ],
      "metadata": {
        "id": "GtGvr1AuRSOr"
      }
    },
    {
      "cell_type": "code",
      "execution_count": 2,
      "metadata": {
        "colab": {
          "base_uri": "https://localhost:8080/"
        },
        "id": "D1D5_mYEPkFj",
        "outputId": "a2f5d0d9-6f35-4a9d-cc53-e0cdd3933297"
      },
      "outputs": [
        {
          "output_type": "stream",
          "name": "stdout",
          "text": [
            "Drive already mounted at /content/drive; to attempt to forcibly remount, call drive.mount(\"/content/drive\", force_remount=True).\n"
          ]
        }
      ],
      "source": [
        "from google.colab import drive\n",
        "drive.mount('/content/drive')"
      ]
    },
    {
      "cell_type": "markdown",
      "source": [
        "# Importando libs"
      ],
      "metadata": {
        "id": "iuu2S8u3SjNR"
      }
    },
    {
      "cell_type": "code",
      "source": [
        "import numpy as np\n",
        "import pandas as pd\n",
        "import random\n",
        "import string\n",
        "import nltk\n",
        "import json\n",
        "import math\n",
        "from evaluate import load\n",
        "from rank_bm25 import BM25Okapi\n",
        "import warnings\n",
        "warnings.filterwarnings('ignore')\n",
        "\n",
        "nltk.download('stopwords')\n",
        "nltk.download('punkt')"
      ],
      "metadata": {
        "colab": {
          "base_uri": "https://localhost:8080/"
        },
        "id": "pqKcuAWXSkkR",
        "outputId": "53967003-06fe-4bc7-a00f-97b6a72c9b72"
      },
      "execution_count": 3,
      "outputs": [
        {
          "output_type": "stream",
          "name": "stderr",
          "text": [
            "[nltk_data] Downloading package stopwords to /root/nltk_data...\n",
            "[nltk_data]   Unzipping corpora/stopwords.zip.\n",
            "[nltk_data] Downloading package punkt to /root/nltk_data...\n",
            "[nltk_data]   Unzipping tokenizers/punkt.zip.\n"
          ]
        },
        {
          "output_type": "execute_result",
          "data": {
            "text/plain": [
              "True"
            ]
          },
          "metadata": {},
          "execution_count": 3
        }
      ]
    },
    {
      "cell_type": "markdown",
      "source": [
        "# Definindo o path dos arquivos"
      ],
      "metadata": {
        "id": "0mW_EQkSRYAN"
      }
    },
    {
      "cell_type": "code",
      "source": [
        "PATH = '/content/drive/MyDrive/Colab Notebooks/IR/data/'"
      ],
      "metadata": {
        "id": "48wv0FlFPnOH"
      },
      "execution_count": 4,
      "outputs": []
    },
    {
      "cell_type": "markdown",
      "source": [
        "# Lendo os arquivos"
      ],
      "metadata": {
        "id": "huvrayVERwSa"
      }
    },
    {
      "cell_type": "code",
      "source": [
        "# Getting document set\n",
        "document_set = {}\n",
        "doc_id = \"\"\n",
        "doc_text = \"\"\n",
        "\n",
        "# Opening file\n",
        "with open(PATH + 'CISI.ALL') as f:\n",
        "    lines = \"\"\n",
        "    \n",
        "    # Iterating through lines and parsing \n",
        "    for l in f.readlines():\n",
        "        lines += \"\\n\" + l.strip() if l.startswith(\".\") else \" \" + l.strip()\n",
        "    lines = lines.lstrip(\"\\n\").split(\"\\n\")\n",
        "\n",
        "# Getting relevant lines\n",
        "doc_count = 0\n",
        "for l in lines:\n",
        "    if l.startswith(\".I\"): # .I stands for index\n",
        "        doc_id = int(l.split(\" \")[1].strip())-1\n",
        "    elif l.startswith(\".X\"): # .X may not be relevant\n",
        "        document_set[doc_id] = doc_text.lstrip(\" \")\n",
        "        doc_id = \"\"\n",
        "        doc_text = \"\"\n",
        "    else: # Concating author, title and text\n",
        "        doc_text += l.strip()[3:] + \" \" \n",
        "\n",
        "\n",
        "# Getting query set\n",
        "query_set = {}\n",
        "query_id = \"\"\n",
        "\n",
        "# Openinig file\n",
        "with open(PATH + 'CISI.QRY') as f:\n",
        "    lines = \"\"\n",
        "\n",
        "    # Iterating through lines and parsing\n",
        "    for l in f.readlines():\n",
        "        lines += \"\\n\" + l.strip() if l.startswith(\".\") else \" \" + l.strip()\n",
        "    lines = lines.lstrip(\"\\n\").split(\"\\n\")\n",
        "    \n",
        "# Getting relevant lines\n",
        "for l in lines:\n",
        "    if l.startswith(\".I\"): # .I stands for index\n",
        "        query_id = int(l.split(\" \")[1].strip()) -1\n",
        "    elif l.startswith(\".W\"): # .W stands for the query text\n",
        "        query_set[query_id] = l.strip()[3:]\n",
        "        query_id = \"\"\n",
        "\n",
        "\n",
        "# Getting relevant set\n",
        "relevant_set = {}\n",
        "\n",
        "# Opening file\n",
        "with open(PATH + 'CISI.REL') as f:\n",
        "\n",
        "    # Iterating through lines and parsing \n",
        "    for l in f.readlines():\n",
        "        qry_id = int(l.lstrip(\" \").strip(\"\\n\").split(\"\\t\")[0].split(\" \")[0]) -1\n",
        "        doc_id = int(l.lstrip(\" \").strip(\"\\n\").split(\"\\t\")[0].split(\" \")[-1])-1\n",
        "        if qry_id in relevant_set:\n",
        "            relevant_set[qry_id].append(doc_id)\n",
        "        else:\n",
        "            relevant_set[qry_id] = []\n",
        "            relevant_set[qry_id].append(doc_id)\n"
      ],
      "metadata": {
        "id": "OG5wqqEJ5o1y"
      },
      "execution_count": 5,
      "outputs": []
    },
    {
      "cell_type": "code",
      "source": [
        "document_set[0]"
      ],
      "metadata": {
        "colab": {
          "base_uri": "https://localhost:8080/",
          "height": 87
        },
        "id": "rdtENh4O8nI7",
        "outputId": "3284d9cd-4214-4a59-9526-ce00273fd4d7"
      },
      "execution_count": 6,
      "outputs": [
        {
          "output_type": "execute_result",
          "data": {
            "text/plain": [
              "\"18 Editions of the Dewey Decimal Classifications Comaromi, J.P. The present study is a history of the DEWEY Decimal Classification.  The first edition of the DDC was published in 1876, the eighteenth edition in 1971, and future editions will continue to appear as needed.  In spite of the DDC's long and healthy life, however, its full story has never been told.  There have been biographies of Dewey that briefly describe his system, but this is the first attempt to provide a detailed history of the work that more than any other has spurred the growth of librarianship in this country and abroad. \""
            ],
            "application/vnd.google.colaboratory.intrinsic+json": {
              "type": "string"
            }
          },
          "metadata": {},
          "execution_count": 6
        }
      ]
    },
    {
      "cell_type": "code",
      "source": [
        "query_set[0]"
      ],
      "metadata": {
        "colab": {
          "base_uri": "https://localhost:8080/",
          "height": 53
        },
        "id": "839wITxMC4ZR",
        "outputId": "c7004e0f-befe-4cd8-f341-e456e930b905"
      },
      "execution_count": 7,
      "outputs": [
        {
          "output_type": "execute_result",
          "data": {
            "text/plain": [
              "'What problems and concerns are there in making up descriptive titles? What difficulties are involved in automatically retrieving articles from approximate titles? What is the usual relevance of the content of articles to their titles?'"
            ],
            "application/vnd.google.colaboratory.intrinsic+json": {
              "type": "string"
            }
          },
          "metadata": {},
          "execution_count": 7
        }
      ]
    },
    {
      "cell_type": "code",
      "source": [
        "relevant_set[0]"
      ],
      "metadata": {
        "colab": {
          "base_uri": "https://localhost:8080/"
        },
        "id": "kZwAJlzVC59m",
        "outputId": "79f6148a-5d5e-44ec-f19a-8e894856a508"
      },
      "execution_count": 8,
      "outputs": [
        {
          "output_type": "execute_result",
          "data": {
            "text/plain": [
              "[27,\n",
              " 34,\n",
              " 37,\n",
              " 41,\n",
              " 42,\n",
              " 51,\n",
              " 64,\n",
              " 75,\n",
              " 85,\n",
              " 149,\n",
              " 188,\n",
              " 191,\n",
              " 192,\n",
              " 194,\n",
              " 214,\n",
              " 268,\n",
              " 290,\n",
              " 319,\n",
              " 428,\n",
              " 464,\n",
              " 465,\n",
              " 481,\n",
              " 482,\n",
              " 509,\n",
              " 523,\n",
              " 540,\n",
              " 575,\n",
              " 581,\n",
              " 588,\n",
              " 602,\n",
              " 649,\n",
              " 679,\n",
              " 710,\n",
              " 721,\n",
              " 725,\n",
              " 782,\n",
              " 812,\n",
              " 819,\n",
              " 867,\n",
              " 868,\n",
              " 893,\n",
              " 1161,\n",
              " 1163,\n",
              " 1194,\n",
              " 1195,\n",
              " 1280]"
            ]
          },
          "metadata": {},
          "execution_count": 8
        }
      ]
    },
    {
      "cell_type": "markdown",
      "source": [
        "# Lista com queries sem documentos relevantes"
      ],
      "metadata": {
        "id": "3CIibOJu30Ig"
      }
    },
    {
      "cell_type": "markdown",
      "source": [
        "Existem algumas queries que não tem correspondência no arquivo de documentos relevantes. Vou deixá-las explícitas em uma variável para utilizar posteriormente. A ideia é não calcular métricas para essas queries.*texto em itálico*"
      ],
      "metadata": {
        "id": "L4gq0QfC61a6"
      }
    },
    {
      "cell_type": "code",
      "source": [
        "queries_with_no_relevant_docs = np.setdiff1d(list(query_set.keys()),list(relevant_set.keys()))"
      ],
      "metadata": {
        "id": "26ZBEThJ3y8D"
      },
      "execution_count": 9,
      "outputs": []
    },
    {
      "cell_type": "markdown",
      "source": [
        "## Algumas estatísticas"
      ],
      "metadata": {
        "id": "uFiK5j-kVYIz"
      }
    },
    {
      "cell_type": "code",
      "source": [
        "print('# de documentos:', len(document_set))\n",
        "print('# de queries:', len(query_set))\n",
        "print('# de mappings:', len(relevant_set))\n",
        "print('# de tokens no menor documento:', np.min([len(value) for key, value in relevant_set.items()]))\n",
        "print('# de tokens no maior documento:', np.max([len(value) for key, value in relevant_set.items()]))\n",
        "print('Média de tokens por documento:', np.mean([len(value) for key, value in relevant_set.items()]))\n",
        "print('Queries sem documentos relevantes:', queries_with_no_relevant_docs)"
      ],
      "metadata": {
        "colab": {
          "base_uri": "https://localhost:8080/"
        },
        "id": "BaYGHIGNQ4Bk",
        "outputId": "f75cfec0-f16d-4d23-9d88-65b00883ecef"
      },
      "execution_count": 10,
      "outputs": [
        {
          "output_type": "stream",
          "name": "stdout",
          "text": [
            "# de documentos: 1460\n",
            "# de queries: 112\n",
            "# de mappings: 76\n",
            "# de tokens no menor documento: 1\n",
            "# de tokens no maior documento: 155\n",
            "Média de tokens por documento: 40.973684210526315\n",
            "Queries sem documentos relevantes: [ 35  37  39  46  47  50  52  58  59  62  63  67  69  71  72  73  74  76\n",
            "  77  79  82  84  85  86  87  88  90  92  93 102 104 105 106 107 109 111]\n"
          ]
        }
      ]
    },
    {
      "cell_type": "markdown",
      "source": [
        "# Limpando e criando o corpus"
      ],
      "metadata": {
        "id": "ffMSgxqXKpME"
      }
    },
    {
      "cell_type": "markdown",
      "source": [
        "A etapa de limpeza de dados é muito importante. É uma etapa customizável, uma vez que podemos escolher diferentes estratégias de limpeza dos textos.\n",
        "Aqui, escolhi o seguinte caminho:\n",
        "\n",
        "- retirar acentuação e caractéres especiais;\n",
        "- aplicar .lower() em todas as palavras;\n",
        "- tokenização;\n",
        "- remoção de stopwords da língua inglesa;\n",
        "- aplicação de stemmer (extração dos núcleos das palavras)."
      ],
      "metadata": {
        "id": "HWIyiA_mOC9j"
      }
    },
    {
      "cell_type": "code",
      "source": [
        "def remove_special_char(input_string):\n",
        "    return input_string.translate(str.maketrans('','', string.punctuation)).lower()\n",
        "\n",
        "def preprocess_string(txt):\n",
        "     \n",
        "    # Removing special characters\n",
        "    txt = remove_special_char(txt)\n",
        "\n",
        "    # creating tokens\n",
        "    tokens = nltk.tokenize.word_tokenize(txt) \n",
        "    \n",
        "    # removing stopwords and applying stemmer\n",
        "    tokens = [stemmer.stem(tk) for tk in tokens if tk not in stopwords]\n",
        "\n",
        "    return tokens"
      ],
      "metadata": {
        "id": "9Zq0gWPcKsIX"
      },
      "execution_count": 11,
      "outputs": []
    },
    {
      "cell_type": "code",
      "source": [
        "# Creating the stemmer and stopwords list\n",
        "stemmer = nltk.stem.PorterStemmer()\n",
        "stopwords = nltk.corpus.stopwords.words('english')\n",
        "\n",
        "# Applying preprocessing functions to documents and queries\n",
        "document_corpus = [preprocess_string(txt) for txt in document_set.values()]\n",
        "query_corpus = [preprocess_string(txt) for txt in query_set.values()]"
      ],
      "metadata": {
        "id": "0xt1cWYjLwqr"
      },
      "execution_count": 12,
      "outputs": []
    },
    {
      "cell_type": "markdown",
      "source": [
        "A mesma limpeza que é aplicada aos documentos deve ser aplicada às queries.\n",
        "\n"
      ],
      "metadata": {
        "id": "lG0_X3yrAUor"
      }
    },
    {
      "cell_type": "markdown",
      "source": [
        "# Testando Okapi BM25 "
      ],
      "metadata": {
        "id": "StMJaumJUDua"
      }
    },
    {
      "cell_type": "markdown",
      "source": [
        "## Selecionando aleatoriamente um index para testar "
      ],
      "metadata": {
        "id": "EGNWy1p4Qwwm"
      }
    },
    {
      "cell_type": "markdown",
      "source": [
        "Vou escolher aleatoriamente um id para testar o funcionamento do BM25. "
      ],
      "metadata": {
        "id": "TnWAHkwZ7KLR"
      }
    },
    {
      "cell_type": "code",
      "source": [
        "# Randomly choosing an index do query\n",
        "random.seed(42)\n",
        "idx = random.sample(relevant_set.keys(),1)[0]\n",
        "\n",
        "# Get query text\n",
        "tokenized_query = query_corpus[idx]\n",
        "\n",
        "# Get relevant documents\n",
        "relevant_docs = relevant_set[idx] \n",
        "\n",
        "# Index all documents using BM25\n",
        "bm25 = BM25Okapi(document_corpus)\n",
        "\n",
        "# Calculating score and top N matches\n",
        "scores = bm25.get_scores(tokenized_query)\n",
        "topn = bm25.get_top_n(tokenized_query, document_corpus, n=10)\n",
        "\n",
        "# printing outputs\n",
        "print('Tokenized query:', tokenized_query)\n",
        "print('Relevant documents IDs:', relevant_docs)\n",
        "print('Top10 matches:', topn)\n",
        "print('Scores:', scores)"
      ],
      "metadata": {
        "colab": {
          "base_uri": "https://localhost:8080/"
        },
        "id": "DBP2fVsrPgkY",
        "outputId": "ab90c607-7069-4e1d-d2da-76b8a6b0f0a3"
      },
      "execution_count": 14,
      "outputs": [
        {
          "output_type": "stream",
          "name": "stdout",
          "text": [
            "Tokenized query: ['much', 'inform', 'retriev', 'dissemin', 'system', 'well', 'autom', 'librari', 'cost', 'worth', 'research', 'industri']\n",
            "Relevant documents IDs: [17, 26, 35, 48, 55, 58, 66, 73, 82, 125, 157, 163, 166, 191, 213, 221, 222, 249, 280, 291, 294, 298, 306, 330, 335, 337, 347, 364, 365, 366, 367, 371, 380, 445, 457, 464, 465, 481, 489, 490, 494, 496, 506, 519, 527, 590, 593, 622, 628, 638, 689, 719, 722, 723, 726, 727, 730, 778, 821, 833, 838, 847, 848, 864, 871, 896, 1099, 1160, 1247, 1304, 1352, 1357, 1362, 1365, 1367, 1370, 1371, 1373, 1374, 1375, 1376, 1409]\n",
            "Top10 matches: [['journal', 'select', 'model', 'implic', 'librari', 'system', 'kraft', 'h', 'hill', 'w', 'jr', 'problem', 'select', 'journal', 'acquir', 'order', 'best', 'satisfi', 'librari', 'object', 'model', 'zeroon', 'linear', 'program', 'problem', 'examin', 'detail', 'model', 'incorpor', 'object', 'function', 'base', 'expect', 'usag', 'measur', 'journal', 'worth', 'cost', 'constraint', 'account', 'scarciti', 'capit', 'model', 'use', 'aid', 'librarian', 'make', 'better', 'select', 'decis', 'sinc', 'object', 'function', 'shown', 'reflect', 'evalu', 'librari', 'inform', 'retriev', 'system', 'servic', 'organ', 'moreov', 'model', 'seen', 'relat', 'inventori', 'problem', 'schedul', 'model', 'industri', 'oper', 'journal', 'usag', 'discuss', 'measur', 'journal', 'worth', 'contrast', 'journal', 'product', 'constraint', 'consid', 'scarc', 'resourc', 'capit', 'journal', 'interrelationship'], ['chemist', 'read', 'panton', 'reuben', 'bg', 'british', 'univers', 'spend', 'least', '3000', 'pound', 'per', 'year', 'chemic', 'journal', 'alon', 'includ', 'administr', 'bind', 'cost', 'may', 'much', 'univers', 'get', 'money', 'worth', 'journal', 'survey', 'one', 'particular', 'chemistri', 'depart', 'suggest'], ['comput', 'use', 'inform', 'data', 'handl', 'apprais', 'econom', 'aspect', 'dammer', 'h', 'f', 'econom', 'merit', 'appli', 'comput', 'inform', 'storag', 'retriev', 'dissemin', 'usual', 'consid', 'respect', 'cost', 'oper', 'inform', 'servic', 'concern', 'tend', 'indic', 'comput', 'use', 'econom', 'justifi', 'mainli', 'housekeep', 'oper', 'larg', 'scale', 'organ', 'present', 'paper', 'take', 'wider', 'view', 'includ', 'apprais', 'cost', 'involv', 'inform', 'gather', 'dissemin', 'total', 'system', 'repres', 'inform', 'servic', 'user', 'suggest', 'inclus', 'cost', 'element', 'associ', 'user', 'time', 'devot', 'inform', 'gather', 'tend', 'shift', 'econom', 'apprais', 'favor', 'comput', 'applic', 'inform', 'work', 'fact', 'comput', 'use', 'appear', 'find', 'main', 'stimulu', 'econom', 'justif', 'environ', 'provid', 'strong', 'incent', 'minim', 'total', 'cost', 'system', 'whilst', 'maxim', 'benefit', 'user', 'illustr', 'exampl', 'given', 'base', 'experi', 'gain', 'research', 'data', 'handl', 'oper', 'sdi', 'servic', 'industri', 'research', 'establish'], ['autom', 'acquisit', 'procedur', 'univers', 'michigan', 'librari', 'dunlap', 'c', 'june', '1965', 'acquisit', 'depart', 'univers', 'michigan', 'librari', 'began', 'use', 'computerbas', 'system', 'order', 'book', 'librari', 'materi', 'begin', 'overal', 'autom', 'system', 'acquisit', 'depart', 'design', 'assist', 'robert', 'kindt', 'system', 'analyst', 'univers', 'offic', 'manag', 'servic', 'preliminari', 'work', 'autom', 'system', 'begun', 'late', '1963', 'septemb', '1964', 'mr', 'kindt', 'assign', 'univers', 'librari', 'fulltim', 'basi', 'preliminari', 'propos', 'draft', 'cost', 'feasibl', 'studi', 'made', 'current', 'ie', '1964', 'volum', 'cost', 'compar', 'anticip', 'volum', 'cost', '1968', '1975', 'manual', 'autom', 'system'], ['autom', 'librari', 'kimber', 'rt', 'purpos', 'write', 'book', 'tri', 'give', 'understand', 'autom', 'system', 'librari', 'today', 'limit', 'strictli', 'area', 'commonli', 'term', 'librari', 'housekeep', 'process', 'book', 'order', 'catalogu', 'period', 'access', 'circul', 'control', 'whose', 'purpos', 'make', 'librari', 'effici', 'machin', 'acquir', 'store', 'dissemin', 'knowledg', 'inform', 'process', 'autom', 'improv', 'qualiti', 'servic', 'librari', 'give', 'reader', 'hope', 'descript', 'explan', 'given', 'assist', 'librarian', 'develop', 'appropri', 'autom', 'system', 'librari'], ['costeffect', 'analysi', 'inform', 'retriev', 'dissemin', 'system', 'lancast', 'fw', 'distinct', 'made', 'costeffect', 'analysi', 'costbenefit', 'analysi', 'appli', 'inform', 'system', 'relationship', 'cost', 'perform', 'benefit', 'discuss', 'factor', 'influenc', 'costeffect', 'retriev', 'dissemin', 'system', 'identifi', 'variou', 'aspect', 'system', 'oper', 'suscept', 'costeffect', 'analysi', 'discuss', 'includ', 'system', 'coverag', 'index', 'polici', 'procedur', 'system', 'vocabulari', 'search', 'procedur', 'mode', 'interact', 'system', 'user', 'possibl', 'tradeoff', 'input', 'output', 'cost', 'effect', 'tradeoff', 'costeffect', 'present'], ['standard', 'cost', 'autom', 'librari', 'system', 'jacob', 'mari', 'ellen', 'l', 'cost', 'autom', 'librari', 'system', 'current', 'given', 'publish', 'report', 'tend', 'mislead', 'confus', 'necessari', 'clear', 'understand', 'deriv', 'comparison', 'made', 'clearli', 'defin', 'cost', 'term', 'time', 'unit', 'meaning', 'straight', 'dollar', 'cost', 'use', 'one', 'mean', 'comparison', 'among', 'variou', 'system', 'design', 'guidelin', 'design', 'new', 'system'], ['cost', 'comput', 'search', 'cheneri', 'pj', 'program', 'discuss', 'primari', 'object', 'make', 'new', 'technolog', 'research', 'inform', 'gener', 'federallysupport', 'research', 'program', 'avail', 'use', 'industri', 'govern', 'privat', 'public', 'benefit', 'group', 'part', 'creat', 'inform', 'resourc', 'use', 'except', 'design', 'comput', 'retriev', 'system', 'although', 'work', 'depend', 'convent', 'librari', 'librarian', 'profession', 'librarian', 'staff'], ['adventur', 'librarianship', 'voigt', 'mj', '1970', 'long', 'need', 'continu', 'seri', 'provid', 'scholarli', 'review', 'rapidli', 'chang', 'advanc', 'field', 'librarianship', 'seri', 'would', 'select', 'subject', 'particular', 'current', 'signific', 'profess', 'provid', 'analysi', 'advanc', 'made', 'research', 'practic', 'advanc', 'librarianship', 'plan', 'design', 'fill', 'need', 'present', 'critic', 'articl', 'survey', 'base', 'publish', 'literatur', 'research', 'progress', 'develop', 'librari', 'type', 'mechan', 'may', 'appear', 'obviou', 'advanc', 'front', 'librarianship', 'autom', 'caught', 'enthusiast', 'support', 'librarian', 'visual', 'potenti', 'advanc', 'field', 'certainli', 'found', 'everi', 'volum', 'seri', 'first', 'group', 'articl', 'volum', 'demonstr', 'technolog', 'chang', 'obviou', 'direct', 'implic', 'librari', 'problem', 'found', 'much', 'complex', 'simpl', 'inventori', 'problem', 'mani', 'expert', 'expect', 'advanc', 'librarianship', 'dedic', 'present', 'realiti', 'autom', 'assess', 'go', 'fast', 'hope', 'get', 'machin', 'catalog', 'review', 'current', 'statu', 'machineproduc', 'book', 'catalog', 'lie', 'ahead', 'enter', 'age', 'marc', 'busi', 'method', 'greater', 'applic', 'progress', 'easier', 'report', 'mechan', 'acquisit', 'process', 'even', 'area', 'gener', 'accept', 'practic', 'standard', 'futur', 'past', 'one', 'problem', 'major', 'immedi', 'import', 'computer', 'catalog', 'inform', 'discuss', 'file', 'system', 'comput', 'manipul', 'detail', 'review', 'present', 'complex', 'problem', 'suggest', 'possibl', 'solut', 'mani', 'year', 'technic', 'servic', 'cost', 'defend', 'without', 'adequ', 'knowledg', 'fact', 'autom', 'procedur', 'propos', 'standard', 'determin', 'cost', 'tradit', 'oper', 'becom', 'essenti', 'articl', 'standard', 'cost', 'show', 'problem', 'difficult', 'review', 'signific', 'advanc', 'past', 'year', 'school', 'librari', 'widen', 'dimens', 'materi', 'servic', 'much', 'rapidli', 'librari', 'reflect', 'new', 'name', 'instruct', 'media', 'center', 'technic', 'chang', 'togeth', 'new', 'teach', 'method', 'made', 'possibl', 'major', 'develop', 'librari', 'servic', 'school', 'well', 'children', 'public', 'librari', 'two', 'articl', 'make', 'clear', 'done', 'demonstr', 'remain', 'make', 'rule', 'rather', 'except', 'bibliotherapi', 'exampl', 'field', 'progress', 'slow', 'articl', 'illustr', 'potenti', 'system', 'theori', 'manageri', 'plan', 'theori', 'librari', 'articl', 'applic', 'concept', 'come', 'research', 'administr', 'provoc', 'may', 'appear', 'controversi', 'articl', 'librari', 'develop', 'develop', 'countri', 'provid', 'analysi', 'depth', 'effort', 'degre', 'success', 'assist', 'countri', 'provid', 'librari', 'servic', 'import', 'modern', 'world'], ['citat', 'measur', 'hard', 'scienc', 'soft', 'scienc', 'technolog', 'nonscienc', 'de', 'solla', 'price', 'perhap', 'fundament', 'problem', 'work', 'scientif', 'inform', 'industri', 'special', 'part', 'inform', 'industri', 'happen', 'deal', 'materi', 'scientif', 'content', 'technic', 'librarianship', 'involv', 'much', 'librarianship', 'appli', 'book', 'esoter', 'vocabulari', 'much', 'mathemat', 'reason', 'choos', 'problem', 'contribut', 'strateg', 'confer', 'know', 'well', 'historian', 'scienc', 'greatest', 'use', 'advanc', 'technolog', 'come', 'appli', 'research', 'train', 'peopl', 'tri', 'make', 'use', 'societi', 'rather', 'basic', 'research', 'aim', 'further', 'understand', 'curious', 'power', 'latest', 'instrument', 'use', 'peopl', 'devis', 'suspect', 'new', 'index', 'tool', 'comput', 'handl', 'use', 'basic', 'research', 'understand', 'scientist', 'solv', 'practic', 'problem', 'design', 'seem', 'clear', 'howev', 'new', 'understand', 'bring', 'success', 'whatev', 'solut', 'ultim', 'emerg']]\n",
            "Scores: [0.70070908 1.4299707  3.26136183 ... 0.         0.         0.98822023]\n"
          ]
        }
      ]
    },
    {
      "cell_type": "markdown",
      "source": [
        "Agora vou encapsular esse trecho de código em uma função para reaproveitar posteriormente e rodar para todas as queries."
      ],
      "metadata": {
        "id": "Cn9nzc4u7VDA"
      }
    },
    {
      "cell_type": "code",
      "source": [
        "def mean_reciprocal_rank(bool_results, k=10):\n",
        "    \"\"\"Score is reciprocal of the rank of the first relevant item\n",
        "    First element is 'rank 1'.  Relevance is binary (nonzero is relevant).\n",
        "    Example from http://en.wikipedia.org/wiki/Mean_reciprocal_rank\n",
        "    >>> rs = [[0, 0, 1], [0, 1, 0], [1, 0, 0]]\n",
        "    >>> mean_reciprocal_rank(rs)\n",
        "    0.61111111111111105\n",
        "\n",
        "    Args:\n",
        "        rs: Iterator of relevance scores (list or numpy) in rank order\n",
        "            (first element is the first item)\n",
        "    Returns:\n",
        "        Mean reciprocal rank\n",
        "\n",
        "    ##Source: https://gist.github.com/bwhite/3726239\n",
        "    \"\"\"\n",
        "    bool_results = (np.atleast_1d(r[:k]).nonzero()[0] for r in bool_results)\n",
        "    return np.mean([1. / (r[0] + 1) if r.size else 0. for r in bool_results])\n",
        "\n",
        "mean_reciprocal_rank([[0, 0, 1], [0, 1, 0], [1, 0, 0]])"
      ],
      "metadata": {
        "colab": {
          "base_uri": "https://localhost:8080/"
        },
        "id": "1lDCO8I2VANo",
        "outputId": "47abaf43-b78d-4159-f33d-f0404f2516db"
      },
      "execution_count": 15,
      "outputs": [
        {
          "output_type": "execute_result",
          "data": {
            "text/plain": [
              "0.611111111111111"
            ]
          },
          "metadata": {},
          "execution_count": 15
        }
      ]
    },
    {
      "cell_type": "code",
      "source": [
        "def results_from_query(tokenized_query, idx, bm25):\n",
        "    \"\"\"Return an ordered array of relevant documents returned by query_id\n",
        "\n",
        "    Args:\n",
        "        qry_id (int): id of query on dataset\n",
        "        bm25 (object): indexed corpus\n",
        "\n",
        "    Returns:\n",
        "        boolean sorted relevance array of documents\n",
        "    \"\"\"    \n",
        "    rel_docs = []\n",
        "\n",
        "    # Getting only index that is in the relevant set\n",
        "    if idx in relevant_set:\n",
        "        rel_docs = relevant_set[idx]\n",
        "\n",
        "    # Scoring query using BM25\n",
        "    scores = bm25.get_scores(tokenized_query)\n",
        "\n",
        "    # Getting most relevant documents\n",
        "    most_relevant_documents = np.argsort([-1*x for x in scores])\n",
        "    masked_relevance_results = np.zeros(most_relevant_documents.shape)\n",
        "  \n",
        "    # Setting 1 to relevant documents\n",
        "    masked_relevance_results[rel_docs] = 1\n",
        "\n",
        "    # Retrieving masked relevance results\n",
        "    sorted_masked_relevance_results = np.take(masked_relevance_results, most_relevant_documents)\n",
        "    \n",
        "    return sorted_masked_relevance_results\n",
        "\n",
        "\n",
        "results = [results_from_query(tokenized_query, idx, bm25) for idx, tokenized_query in enumerate(query_corpus)]\n",
        "print('MRR@10 %.4f' % mean_reciprocal_rank(results))"
      ],
      "metadata": {
        "colab": {
          "base_uri": "https://localhost:8080/"
        },
        "id": "s8Lxk8dJU6Yx",
        "outputId": "e6d888c2-3237-4cee-9cfa-151a8adca1a5"
      },
      "execution_count": 16,
      "outputs": [
        {
          "output_type": "stream",
          "name": "stdout",
          "text": [
            "MRR@10 0.4459\n"
          ]
        }
      ]
    },
    {
      "cell_type": "markdown",
      "source": [
        "# Implementação from scratch"
      ],
      "metadata": {
        "id": "9RucRPjv5hlA"
      }
    },
    {
      "cell_type": "markdown",
      "source": [
        "Vou implementar no zero o BM25. Vou customizá-lo para que sua API siga o padrão da API do bm25Okapi, e assim testar ambos e compará-los."
      ],
      "metadata": {
        "id": "U9jx5V4F7gHa"
      }
    },
    {
      "cell_type": "code",
      "source": [
        "class BM25:\n",
        "    \"\"\"\n",
        "    Implementation of BM25 algorithm. It computes the term frequencies, document frequencies\n",
        "    and scores for a given set of documents and query parameters.\n",
        "    Methods:\n",
        "        fit: given a set of corpus, it computes all the necessary statistics to \n",
        "            get bm25 matching scores \n",
        "        _score: computes a single score based on a query and an index\n",
        "        get_scores: computes all scores based on a query and the given corpus\n",
        "\n",
        "    \"\"\"\n",
        "\n",
        "    def __init__(self, k1=1.5, b=0.75):\n",
        "        self.b = b\n",
        "        self.k1 = k1\n",
        "\n",
        "    def fit(self, corpus):\n",
        "        \"\"\"\n",
        "        Function that fits the statistics that are required to calculate BM25 ranking\n",
        "        score using a given corpus.\n",
        "\n",
        "        Args:\n",
        "            corpus : list[list[str]]\n",
        "                Each element in the list represents a document, and each document\n",
        "                is a list of the terms.\n",
        "        Returns:\n",
        "            self\n",
        "        \"\"\"\n",
        "        tf = []\n",
        "        df = {}\n",
        "        idf = {}\n",
        "        doc_len = []\n",
        "        corpus_size = 0\n",
        "        for document in corpus:\n",
        "            corpus_size += 1\n",
        "            doc_len.append(len(document))\n",
        "\n",
        "            # compute tf (term frequency) per document\n",
        "            frequencies = {}\n",
        "            for term in document:\n",
        "                term_count = frequencies.get(term, 0) + 1\n",
        "                frequencies[term] = term_count\n",
        "\n",
        "            tf.append(frequencies)\n",
        "\n",
        "            # compute df (document frequency) per term\n",
        "            for term, _ in frequencies.items():\n",
        "                df_count = df.get(term, 0) + 1\n",
        "                df[term] = df_count\n",
        "\n",
        "        # compute the inverse document frequency\n",
        "        for term, freq in df.items():\n",
        "            idf[term] = math.log(1 + (corpus_size - freq + 0.5) / (freq + 0.5))\n",
        "\n",
        "        self.tf_ = tf\n",
        "        self.df_ = df\n",
        "        self.idf_ = idf\n",
        "        self.doc_len_ = doc_len\n",
        "        self.corpus_ = corpus\n",
        "        self.corpus_size_ = corpus_size\n",
        "        self.avg_doc_len_ = sum(doc_len) / corpus_size\n",
        "        return self\n",
        "\n",
        "    def _score(self, query, index):\n",
        "        \"\"\"\n",
        "        Function that computes a score based on the query and the index\n",
        "        Args:\n",
        "            query: user's query\n",
        "            index: the index of the query\n",
        "        Returns:\n",
        "            score: score of the given query\n",
        "        \"\"\"\n",
        "        score = 0.0\n",
        "\n",
        "        doc_len = self.doc_len_[index]\n",
        "        frequencies = self.tf_[index]\n",
        "        for term in query:\n",
        "            if term not in frequencies:\n",
        "                continue\n",
        "\n",
        "            freq = frequencies[term]\n",
        "            numerator = self.idf_[term] * freq * (self.k1 + 1)\n",
        "            denominator = freq + self.k1 * (1 - self.b + self.b * doc_len / self.avg_doc_len_)\n",
        "            score += (numerator / denominator)\n",
        "\n",
        "        return score\n",
        "\n",
        "    def get_scores(self, query):\n",
        "        \"\"\"\n",
        "        Function that get scores for all the documents in the corpus\n",
        "        Args:\n",
        "            query: input query\n",
        "        Returns:\n",
        "            scores: a list of all the scores\n",
        "        \"\"\"\n",
        "        scores = [self._score(query, index) for index in range(self.corpus_size_)]\n",
        "        return scores"
      ],
      "metadata": {
        "id": "yaHuPzc6j0N1"
      },
      "execution_count": 17,
      "outputs": []
    },
    {
      "cell_type": "markdown",
      "source": [
        "# Função de extração de métricas\n",
        "\n",
        "Irei utilizar a implementação da Huggingface da trec_eval, uma ferramenta de cálculo de métricas para sistemas de recuperação da informação. \n",
        "\n",
        "Para isso, foi necessário ajustar o formato do input para obedecer o formado esperado pela API do Huggingface."
      ],
      "metadata": {
        "id": "reBC3eeB70gH"
      }
    },
    {
      "cell_type": "code",
      "source": [
        "def data_format_trec_eval(idx, relevant_docs, most_relevant_documents, scores):\n",
        "    \"\"\"\n",
        "    Function that transforms a set of scores, retrieved and relevant documents\n",
        "    into trec_eval format used by HuggingFace evaluate module.\n",
        "    Args:\n",
        "        idx: index of document\n",
        "        relevant_docs: list of relevant documents\n",
        "        most_relevant_documents: list of retrieved documents\n",
        "        scores: list with BM25 scores\n",
        "    Returns:\n",
        "        qrel: dict with relevant documents in trec_eval format\n",
        "        run: dict with retrieved docouments and scores in trec_eval format.\n",
        "    ## SOURCE: https://huggingface.co/spaces/evaluate-metric/trec_eval\n",
        "    \"\"\"\n",
        "    \n",
        "    N = len(relevant_docs)\n",
        "\n",
        "    qrel = {\n",
        "        'query': [idx] * N,\n",
        "        'q0': ['q0'] * N,\n",
        "        \"docid\": [str(x) for x in relevant_docs],\n",
        "        \"rel\": [str(x) for x in relevant_docs]\n",
        "    }\n",
        "\n",
        "    run = {\n",
        "        \"query\": [idx] * N,\n",
        "        \"q0\": [\"q0\"] * N,\n",
        "        \"docid\": [str(x) for x in list(most_relevant_documents[:N])],\n",
        "        \"rank\": list(range(N)),\n",
        "        \"score\": sorted(scores)[::-1][:N],\n",
        "        \"system\": [\"test\"] * N\n",
        "    }\n",
        "\n",
        "    return qrel, run\n",
        "\n",
        "\n",
        "def extract_metrics(trec_eval, qrel, run):\n",
        "    \"\"\"\n",
        "    Function that extract trec_eval metrics from qrel and run\n",
        "    Args:\n",
        "        trec_eval: object from HuggingFace lib responsible for calculate metrics.\n",
        "        qrel: dict with relevant documents in trec_eval format\n",
        "        run: dict with retrieved docouments and scores in trec_eval format\n",
        "    Returns:\n",
        "        metrics: dict with trec_eval metrics.\n",
        "    \"\"\"\n",
        "    return trec_eval.compute(references=[qrel], predictions=[run])"
      ],
      "metadata": {
        "id": "2tWnyfToz_Ys"
      },
      "execution_count": 18,
      "outputs": []
    },
    {
      "cell_type": "markdown",
      "source": [
        "Testando o pipeline para um id aleatório"
      ],
      "metadata": {
        "id": "idhjqYZQ8OFS"
      }
    },
    {
      "cell_type": "code",
      "source": [
        "# Randomly choosing an index do query\n",
        "random.seed(42)\n",
        "idx = random.sample(relevant_set.keys(),1)[0]\n",
        "\n",
        "tokenized_query = query_corpus[idx] #get query text\n",
        "relevant_docs = relevant_set[idx] #get relevant documents\n",
        "\n",
        "# Fitting BM25 and recovering scores\n",
        "bm25 = BM25()\n",
        "bm25.fit(document_corpus)\n",
        "scores = bm25.get_scores(tokenized_query)\n",
        "\n",
        "# Getting most relevant documents\n",
        "most_relevant_documents = np.argsort([-1*x for x in scores])\n",
        "masked_relevance_results = np.zeros(most_relevant_documents.shape)\n",
        "masked_relevance_results[relevant_docs] = 1\n",
        "sorted_masked_relevance_results = np.take(masked_relevance_results, most_relevant_documents)\n",
        "\n",
        "# trec_eval format\n",
        "qrel, run = data_format_trec_eval(idx, relevant_docs, most_relevant_documents, scores)\n",
        "\n",
        "# Getting metrics\n",
        "trec_eval = load(\"trec_eval\")\n",
        "metrics = extract_metrics(trec_eval, qrel, run)\n",
        "\n",
        "# print results\n",
        "print('Tokenized query:', tokenized_query)\n",
        "print('Relevant documents IDs:', relevant_docs)\n",
        "print('Retrieved documents IDs:', most_relevant_documents[:82])\n",
        "print('Intersection between relevant documents and retrieved documents:', set(relevant_docs).intersection(set(most_relevant_documents[:82])))\n",
        "print('MRR@10', mean_reciprocal_rank([sorted_masked_relevance_results]))\n",
        "print('Metrics:', metrics)"
      ],
      "metadata": {
        "colab": {
          "base_uri": "https://localhost:8080/",
          "height": 260,
          "referenced_widgets": [
            "7d7deca458f5443f8cebb3c4a90901c8",
            "80ba794116614a94ae3c7cefe8a983bb",
            "3f9f8b917d4f46969c6185dbe39c11e9",
            "b4552c3cbf0448adbd26d8cd7631b98d",
            "61f5a82867c04cc888302ea83ed36060",
            "eed9855e1d7946919a4a704930452498",
            "9a7817d044a8425db34f384d42770766",
            "938e9798ce6b47779e7708a172e9bd09",
            "0b548bb1331b4680bcecd9478d373a1b",
            "7d3780196023473abdcd1247f60aac86",
            "c846f28c611747a78ac6cd91cf1fa261"
          ]
        },
        "id": "TmEBd9j45jjy",
        "outputId": "31e8d3fc-061b-45a8-b12f-315367912981"
      },
      "execution_count": 19,
      "outputs": [
        {
          "output_type": "display_data",
          "data": {
            "text/plain": [
              "Downloading builder script:   0%|          | 0.00/5.51k [00:00<?, ?B/s]"
            ],
            "application/vnd.jupyter.widget-view+json": {
              "version_major": 2,
              "version_minor": 0,
              "model_id": "7d7deca458f5443f8cebb3c4a90901c8"
            }
          },
          "metadata": {}
        },
        {
          "output_type": "stream",
          "name": "stdout",
          "text": [
            "Tokenized query: ['much', 'inform', 'retriev', 'dissemin', 'system', 'well', 'autom', 'librari', 'cost', 'worth', 'research', 'industri']\n",
            "Relevant documents IDs: [17, 26, 35, 48, 55, 58, 66, 73, 82, 125, 157, 163, 166, 191, 213, 221, 222, 249, 280, 291, 294, 298, 306, 330, 335, 337, 347, 364, 365, 366, 367, 371, 380, 445, 457, 464, 465, 481, 489, 490, 494, 496, 506, 519, 527, 590, 593, 622, 628, 638, 689, 719, 722, 723, 726, 727, 730, 778, 821, 833, 838, 847, 848, 864, 871, 896, 1099, 1160, 1247, 1304, 1352, 1357, 1362, 1365, 1367, 1370, 1371, 1373, 1374, 1375, 1376, 1409]\n",
            "Retrieved documents IDs: [ 514  489 1263  176  590  254  978  859  374  864   16  848  313  888\n",
            "  380  865  280 1297 1119    5 1276  335  614  610  405  653  420  286\n",
            "  915 1077  177  387 1026   26 1052 1361  480  481  989 1138  473 1367\n",
            "  571  727 1204 1113 1008  574  641  916  375   66  173 1257 1283 1150\n",
            " 1409  174  134  838  953 1105  976 1124  339 1352  689  179  496  125\n",
            "  287  294   73  800  985  675  873  320  292  593  633   65]\n",
            "Intersection between relevant documents and retrieved documents: {1409, 280, 26, 294, 689, 66, 838, 1352, 73, 590, 335, 848, 593, 727, 1367, 864, 481, 489, 496, 380, 125}\n",
            "MRR@10 0.5\n",
            "Metrics: {'runid': 'test', 'num_ret': 82, 'num_rel': 82, 'num_rel_ret': 21, 'num_q': 1, 'map': 0.07268480145918713, 'gm_map': 0.07268480145918714, 'bpref': 0.0, 'Rprec': 0.25609756097560976, 'recip_rank': 0.5, 'P@5': 0.4, 'P@10': 0.3, 'P@15': 0.3333333333333333, 'P@20': 0.3, 'P@30': 0.23333333333333334, 'P@100': 0.21, 'P@200': 0.105, 'P@500': 0.042, 'P@1000': 0.021, 'NDCG@5': 0.1313174827844917, 'NDCG@10': 0.12547302948571268, 'NDCG@15': 0.13946281282867673, 'NDCG@20': 0.13020790160670373, 'NDCG@30': 0.11708390579883159, 'NDCG@100': 0.1961073696432086, 'NDCG@200': 0.1961073696432086, 'NDCG@500': 0.1961073696432086, 'NDCG@1000': 0.1961073696432086}\n"
          ]
        }
      ]
    },
    {
      "cell_type": "markdown",
      "source": [
        "# Encapsulando a lógica em função\n",
        "\n",
        "Vou encapsular a lógica em uma função para ser capaz de executar para todas as queries."
      ],
      "metadata": {
        "id": "QJNe3bzV8ekI"
      }
    },
    {
      "cell_type": "code",
      "source": [
        "def results_from_query(tokenized_query, idx, trec_eval, bm25):\n",
        "    \"\"\"Return an ordered array of relevant documents returned by query_id\n",
        "\n",
        "    Args:\n",
        "        tokenized_query: tokenized query to submit to BM25\n",
        "        idx: index of tokenized query\n",
        "        trec_eval: object to calculate metrics\n",
        "        bm25: indexed corpus\n",
        "    Returns:\n",
        "        sorted_masked_relevance_results: sorted relevance array of documents\n",
        "        metrics: trec_eval metrics\n",
        "    \"\"\"    \n",
        "    relevant_docs = []\n",
        "\n",
        "    # Retrieving relevant document\n",
        "    if idx in relevant_set:\n",
        "        relevant_docs = relevant_set[idx]\n",
        "\n",
        "    # Scoring query using BM25\n",
        "    scores = bm25.get_scores(tokenized_query)\n",
        "\n",
        "    # Getting most relevant documents\n",
        "    most_relevant_documents = np.argsort([-1*x for x in scores])\n",
        "    masked_relevance_results = np.zeros(most_relevant_documents.shape)\n",
        "  \n",
        "    # Setting 1 to relevant documents\n",
        "    masked_relevance_results[relevant_docs] = 1\n",
        "\n",
        "    # Retrieving masked relevance results\n",
        "    sorted_masked_relevance_results = np.take(masked_relevance_results, most_relevant_documents)\n",
        "\n",
        "    # trec_eval format\n",
        "    qrel, run = data_format_trec_eval(idx, relevant_docs, most_relevant_documents, scores)\n",
        "\n",
        "    # Getting metrics\n",
        "    metrics = extract_metrics(trec_eval, qrel, run)\n",
        "\n",
        "    return sorted_masked_relevance_results, metrics\n",
        "\n",
        "\n",
        "# Loading trec_eval\n",
        "trec_eval = load(\"trec_eval\")\n",
        "\n",
        "# Running function to get results and metrics\n",
        "output = [\n",
        "    results_from_query(tokenized_query, idx, trec_eval, bm25) \n",
        "    for idx, tokenized_query in enumerate(query_corpus)\n",
        "    if idx not in queries_with_no_relevant_docs\n",
        "]\n",
        "\n",
        "results = [x[0] for x in output]\n",
        "metrics = [x[1] for x in output]"
      ],
      "metadata": {
        "id": "ckPj8Jpx1Y9H"
      },
      "execution_count": 20,
      "outputs": []
    },
    {
      "cell_type": "code",
      "source": [
        "print('MRR@10 %.4f' % mean_reciprocal_rank(results))"
      ],
      "metadata": {
        "colab": {
          "base_uri": "https://localhost:8080/"
        },
        "id": "nRZ3HXHF9dLY",
        "outputId": "a542c249-5e29-413f-a291-4d2cd8f95339"
      },
      "execution_count": 21,
      "outputs": [
        {
          "output_type": "stream",
          "name": "stdout",
          "text": [
            "MRR@10 0.6537\n"
          ]
        }
      ]
    },
    {
      "cell_type": "code",
      "source": [
        "df_metrics = pd.DataFrame(metrics)\n",
        "df_metrics.head()"
      ],
      "metadata": {
        "colab": {
          "base_uri": "https://localhost:8080/",
          "height": 300
        },
        "id": "crah2Fwe14J9",
        "outputId": "0519b885-b3cc-456f-b3d1-52097ecb4e1b"
      },
      "execution_count": 22,
      "outputs": [
        {
          "output_type": "execute_result",
          "data": {
            "text/plain": [
              "  runid  num_ret  num_rel  num_rel_ret  num_q       map    gm_map  bpref  \\\n",
              "0  test       46       46           20      1  0.289305  0.289305    0.0   \n",
              "1  test       26       26            2      1  0.022575  0.022575    0.0   \n",
              "2  test       44       44           14      1  0.215630  0.215630    0.0   \n",
              "3  test        8        8            2      1  0.250000  0.250000    0.0   \n",
              "4  test       24       24            3      1  0.033730  0.033730    0.0   \n",
              "\n",
              "      Rprec  recip_rank  ...  P@1000    NDCG@5   NDCG@10   NDCG@15   NDCG@20  \\\n",
              "0  0.434783         1.0  ...   0.020  0.253467  0.279872  0.326786  0.349504   \n",
              "1  0.076923         0.5  ...   0.002  0.075690  0.052630  0.042371  0.038037   \n",
              "2  0.318182         1.0  ...   0.014  0.622255  0.477933  0.451088  0.478047   \n",
              "3  0.250000         1.0  ...   0.002  0.470656  0.401536  0.401536  0.401536   \n",
              "4  0.125000         0.5  ...   0.003  0.127351  0.100872  0.117123  0.112292   \n",
              "\n",
              "    NDCG@30  NDCG@100  NDCG@200  NDCG@500  NDCG@1000  \n",
              "0  0.396586  0.406102  0.406102  0.406102   0.406102  \n",
              "1  0.082846  0.082846  0.082846  0.082846   0.082846  \n",
              "2  0.453751  0.456523  0.456523  0.456523   0.456523  \n",
              "3  0.401536  0.401536  0.401536  0.401536   0.401536  \n",
              "4  0.117310  0.117310  0.117310  0.117310   0.117310  \n",
              "\n",
              "[5 rows x 28 columns]"
            ],
            "text/html": [
              "\n",
              "  <div id=\"df-cd9d458f-e46b-46f1-9892-7855e2f0c73c\">\n",
              "    <div class=\"colab-df-container\">\n",
              "      <div>\n",
              "<style scoped>\n",
              "    .dataframe tbody tr th:only-of-type {\n",
              "        vertical-align: middle;\n",
              "    }\n",
              "\n",
              "    .dataframe tbody tr th {\n",
              "        vertical-align: top;\n",
              "    }\n",
              "\n",
              "    .dataframe thead th {\n",
              "        text-align: right;\n",
              "    }\n",
              "</style>\n",
              "<table border=\"1\" class=\"dataframe\">\n",
              "  <thead>\n",
              "    <tr style=\"text-align: right;\">\n",
              "      <th></th>\n",
              "      <th>runid</th>\n",
              "      <th>num_ret</th>\n",
              "      <th>num_rel</th>\n",
              "      <th>num_rel_ret</th>\n",
              "      <th>num_q</th>\n",
              "      <th>map</th>\n",
              "      <th>gm_map</th>\n",
              "      <th>bpref</th>\n",
              "      <th>Rprec</th>\n",
              "      <th>recip_rank</th>\n",
              "      <th>...</th>\n",
              "      <th>P@1000</th>\n",
              "      <th>NDCG@5</th>\n",
              "      <th>NDCG@10</th>\n",
              "      <th>NDCG@15</th>\n",
              "      <th>NDCG@20</th>\n",
              "      <th>NDCG@30</th>\n",
              "      <th>NDCG@100</th>\n",
              "      <th>NDCG@200</th>\n",
              "      <th>NDCG@500</th>\n",
              "      <th>NDCG@1000</th>\n",
              "    </tr>\n",
              "  </thead>\n",
              "  <tbody>\n",
              "    <tr>\n",
              "      <th>0</th>\n",
              "      <td>test</td>\n",
              "      <td>46</td>\n",
              "      <td>46</td>\n",
              "      <td>20</td>\n",
              "      <td>1</td>\n",
              "      <td>0.289305</td>\n",
              "      <td>0.289305</td>\n",
              "      <td>0.0</td>\n",
              "      <td>0.434783</td>\n",
              "      <td>1.0</td>\n",
              "      <td>...</td>\n",
              "      <td>0.020</td>\n",
              "      <td>0.253467</td>\n",
              "      <td>0.279872</td>\n",
              "      <td>0.326786</td>\n",
              "      <td>0.349504</td>\n",
              "      <td>0.396586</td>\n",
              "      <td>0.406102</td>\n",
              "      <td>0.406102</td>\n",
              "      <td>0.406102</td>\n",
              "      <td>0.406102</td>\n",
              "    </tr>\n",
              "    <tr>\n",
              "      <th>1</th>\n",
              "      <td>test</td>\n",
              "      <td>26</td>\n",
              "      <td>26</td>\n",
              "      <td>2</td>\n",
              "      <td>1</td>\n",
              "      <td>0.022575</td>\n",
              "      <td>0.022575</td>\n",
              "      <td>0.0</td>\n",
              "      <td>0.076923</td>\n",
              "      <td>0.5</td>\n",
              "      <td>...</td>\n",
              "      <td>0.002</td>\n",
              "      <td>0.075690</td>\n",
              "      <td>0.052630</td>\n",
              "      <td>0.042371</td>\n",
              "      <td>0.038037</td>\n",
              "      <td>0.082846</td>\n",
              "      <td>0.082846</td>\n",
              "      <td>0.082846</td>\n",
              "      <td>0.082846</td>\n",
              "      <td>0.082846</td>\n",
              "    </tr>\n",
              "    <tr>\n",
              "      <th>2</th>\n",
              "      <td>test</td>\n",
              "      <td>44</td>\n",
              "      <td>44</td>\n",
              "      <td>14</td>\n",
              "      <td>1</td>\n",
              "      <td>0.215630</td>\n",
              "      <td>0.215630</td>\n",
              "      <td>0.0</td>\n",
              "      <td>0.318182</td>\n",
              "      <td>1.0</td>\n",
              "      <td>...</td>\n",
              "      <td>0.014</td>\n",
              "      <td>0.622255</td>\n",
              "      <td>0.477933</td>\n",
              "      <td>0.451088</td>\n",
              "      <td>0.478047</td>\n",
              "      <td>0.453751</td>\n",
              "      <td>0.456523</td>\n",
              "      <td>0.456523</td>\n",
              "      <td>0.456523</td>\n",
              "      <td>0.456523</td>\n",
              "    </tr>\n",
              "    <tr>\n",
              "      <th>3</th>\n",
              "      <td>test</td>\n",
              "      <td>8</td>\n",
              "      <td>8</td>\n",
              "      <td>2</td>\n",
              "      <td>1</td>\n",
              "      <td>0.250000</td>\n",
              "      <td>0.250000</td>\n",
              "      <td>0.0</td>\n",
              "      <td>0.250000</td>\n",
              "      <td>1.0</td>\n",
              "      <td>...</td>\n",
              "      <td>0.002</td>\n",
              "      <td>0.470656</td>\n",
              "      <td>0.401536</td>\n",
              "      <td>0.401536</td>\n",
              "      <td>0.401536</td>\n",
              "      <td>0.401536</td>\n",
              "      <td>0.401536</td>\n",
              "      <td>0.401536</td>\n",
              "      <td>0.401536</td>\n",
              "      <td>0.401536</td>\n",
              "    </tr>\n",
              "    <tr>\n",
              "      <th>4</th>\n",
              "      <td>test</td>\n",
              "      <td>24</td>\n",
              "      <td>24</td>\n",
              "      <td>3</td>\n",
              "      <td>1</td>\n",
              "      <td>0.033730</td>\n",
              "      <td>0.033730</td>\n",
              "      <td>0.0</td>\n",
              "      <td>0.125000</td>\n",
              "      <td>0.5</td>\n",
              "      <td>...</td>\n",
              "      <td>0.003</td>\n",
              "      <td>0.127351</td>\n",
              "      <td>0.100872</td>\n",
              "      <td>0.117123</td>\n",
              "      <td>0.112292</td>\n",
              "      <td>0.117310</td>\n",
              "      <td>0.117310</td>\n",
              "      <td>0.117310</td>\n",
              "      <td>0.117310</td>\n",
              "      <td>0.117310</td>\n",
              "    </tr>\n",
              "  </tbody>\n",
              "</table>\n",
              "<p>5 rows × 28 columns</p>\n",
              "</div>\n",
              "      <button class=\"colab-df-convert\" onclick=\"convertToInteractive('df-cd9d458f-e46b-46f1-9892-7855e2f0c73c')\"\n",
              "              title=\"Convert this dataframe to an interactive table.\"\n",
              "              style=\"display:none;\">\n",
              "        \n",
              "  <svg xmlns=\"http://www.w3.org/2000/svg\" height=\"24px\"viewBox=\"0 0 24 24\"\n",
              "       width=\"24px\">\n",
              "    <path d=\"M0 0h24v24H0V0z\" fill=\"none\"/>\n",
              "    <path d=\"M18.56 5.44l.94 2.06.94-2.06 2.06-.94-2.06-.94-.94-2.06-.94 2.06-2.06.94zm-11 1L8.5 8.5l.94-2.06 2.06-.94-2.06-.94L8.5 2.5l-.94 2.06-2.06.94zm10 10l.94 2.06.94-2.06 2.06-.94-2.06-.94-.94-2.06-.94 2.06-2.06.94z\"/><path d=\"M17.41 7.96l-1.37-1.37c-.4-.4-.92-.59-1.43-.59-.52 0-1.04.2-1.43.59L10.3 9.45l-7.72 7.72c-.78.78-.78 2.05 0 2.83L4 21.41c.39.39.9.59 1.41.59.51 0 1.02-.2 1.41-.59l7.78-7.78 2.81-2.81c.8-.78.8-2.07 0-2.86zM5.41 20L4 18.59l7.72-7.72 1.47 1.35L5.41 20z\"/>\n",
              "  </svg>\n",
              "      </button>\n",
              "      \n",
              "  <style>\n",
              "    .colab-df-container {\n",
              "      display:flex;\n",
              "      flex-wrap:wrap;\n",
              "      gap: 12px;\n",
              "    }\n",
              "\n",
              "    .colab-df-convert {\n",
              "      background-color: #E8F0FE;\n",
              "      border: none;\n",
              "      border-radius: 50%;\n",
              "      cursor: pointer;\n",
              "      display: none;\n",
              "      fill: #1967D2;\n",
              "      height: 32px;\n",
              "      padding: 0 0 0 0;\n",
              "      width: 32px;\n",
              "    }\n",
              "\n",
              "    .colab-df-convert:hover {\n",
              "      background-color: #E2EBFA;\n",
              "      box-shadow: 0px 1px 2px rgba(60, 64, 67, 0.3), 0px 1px 3px 1px rgba(60, 64, 67, 0.15);\n",
              "      fill: #174EA6;\n",
              "    }\n",
              "\n",
              "    [theme=dark] .colab-df-convert {\n",
              "      background-color: #3B4455;\n",
              "      fill: #D2E3FC;\n",
              "    }\n",
              "\n",
              "    [theme=dark] .colab-df-convert:hover {\n",
              "      background-color: #434B5C;\n",
              "      box-shadow: 0px 1px 3px 1px rgba(0, 0, 0, 0.15);\n",
              "      filter: drop-shadow(0px 1px 2px rgba(0, 0, 0, 0.3));\n",
              "      fill: #FFFFFF;\n",
              "    }\n",
              "  </style>\n",
              "\n",
              "      <script>\n",
              "        const buttonEl =\n",
              "          document.querySelector('#df-cd9d458f-e46b-46f1-9892-7855e2f0c73c button.colab-df-convert');\n",
              "        buttonEl.style.display =\n",
              "          google.colab.kernel.accessAllowed ? 'block' : 'none';\n",
              "\n",
              "        async function convertToInteractive(key) {\n",
              "          const element = document.querySelector('#df-cd9d458f-e46b-46f1-9892-7855e2f0c73c');\n",
              "          const dataTable =\n",
              "            await google.colab.kernel.invokeFunction('convertToInteractive',\n",
              "                                                     [key], {});\n",
              "          if (!dataTable) return;\n",
              "\n",
              "          const docLinkHtml = 'Like what you see? Visit the ' +\n",
              "            '<a target=\"_blank\" href=https://colab.research.google.com/notebooks/data_table.ipynb>data table notebook</a>'\n",
              "            + ' to learn more about interactive tables.';\n",
              "          element.innerHTML = '';\n",
              "          dataTable['output_type'] = 'display_data';\n",
              "          await google.colab.output.renderOutput(dataTable, element);\n",
              "          const docLink = document.createElement('div');\n",
              "          docLink.innerHTML = docLinkHtml;\n",
              "          element.appendChild(docLink);\n",
              "        }\n",
              "      </script>\n",
              "    </div>\n",
              "  </div>\n",
              "  "
            ]
          },
          "metadata": {},
          "execution_count": 22
        }
      ]
    },
    {
      "cell_type": "code",
      "source": [
        "df_metrics.describe()"
      ],
      "metadata": {
        "colab": {
          "base_uri": "https://localhost:8080/",
          "height": 394
        },
        "id": "sYpY8xQq6LYW",
        "outputId": "cbbdce7b-9ccf-4ee8-dd5d-e9c425a44d93"
      },
      "execution_count": 23,
      "outputs": [
        {
          "output_type": "execute_result",
          "data": {
            "text/plain": [
              "          num_ret     num_rel  num_rel_ret  num_q        map     gm_map  \\\n",
              "count   76.000000   76.000000    76.000000   76.0  76.000000  76.000000   \n",
              "mean    40.973684   40.934211    11.460526    1.0   0.141416   0.141417   \n",
              "std     36.171434   36.153132    12.641140    0.0   0.130799   0.130798   \n",
              "min      1.000000    1.000000     0.000000    1.0   0.000000   0.000010   \n",
              "25%     13.000000   13.000000     3.000000    1.0   0.044356   0.044356   \n",
              "50%     30.500000   30.500000     8.000000    1.0   0.104906   0.104906   \n",
              "75%     52.250000   52.250000    15.000000    1.0   0.211609   0.211609   \n",
              "max    155.000000  155.000000    54.000000    1.0   0.688633   0.688633   \n",
              "\n",
              "           bpref      Rprec  recip_rank        P@5  ...     P@1000     NDCG@5  \\\n",
              "count  76.000000  76.000000   76.000000  76.000000  ...  76.000000  76.000000   \n",
              "mean    0.007185   0.246858    0.653509   0.423684  ...   0.011461   0.251832   \n",
              "std     0.035874   0.151907    0.383039   0.293879  ...   0.012641   0.221134   \n",
              "min     0.000000   0.000000    0.000000   0.000000  ...   0.000000   0.000000   \n",
              "25%     0.000000   0.145089    0.333333   0.200000  ...   0.003000   0.068260   \n",
              "50%     0.000000   0.250000    1.000000   0.400000  ...   0.008000   0.213069   \n",
              "75%     0.000000   0.351972    1.000000   0.600000  ...   0.015000   0.396157   \n",
              "max     0.205128   0.722222    1.000000   1.000000  ...   0.054000   0.923995   \n",
              "\n",
              "         NDCG@10    NDCG@15    NDCG@20    NDCG@30   NDCG@100   NDCG@200  \\\n",
              "count  76.000000  76.000000  76.000000  76.000000  76.000000  76.000000   \n",
              "mean    0.236444   0.241536   0.240273   0.238188   0.248046   0.250120   \n",
              "std     0.189573   0.182704   0.181047   0.176827   0.173580   0.173783   \n",
              "min     0.000000   0.000000   0.000000   0.000000   0.000000   0.000000   \n",
              "25%     0.094246   0.101756   0.101913   0.106783   0.124962   0.124962   \n",
              "50%     0.205570   0.204963   0.208783   0.208463   0.232966   0.232966   \n",
              "75%     0.380725   0.385079   0.373350   0.350057   0.384257   0.384257   \n",
              "max     0.804301   0.813944   0.785362   0.778038   0.778038   0.778038   \n",
              "\n",
              "        NDCG@500  NDCG@1000  \n",
              "count  76.000000  76.000000  \n",
              "mean    0.250120   0.250120  \n",
              "std     0.173783   0.173783  \n",
              "min     0.000000   0.000000  \n",
              "25%     0.124962   0.124962  \n",
              "50%     0.232966   0.232966  \n",
              "75%     0.384257   0.384257  \n",
              "max     0.778038   0.778038  \n",
              "\n",
              "[8 rows x 27 columns]"
            ],
            "text/html": [
              "\n",
              "  <div id=\"df-f74c375f-3a77-4bc7-995a-6f1a23e1de00\">\n",
              "    <div class=\"colab-df-container\">\n",
              "      <div>\n",
              "<style scoped>\n",
              "    .dataframe tbody tr th:only-of-type {\n",
              "        vertical-align: middle;\n",
              "    }\n",
              "\n",
              "    .dataframe tbody tr th {\n",
              "        vertical-align: top;\n",
              "    }\n",
              "\n",
              "    .dataframe thead th {\n",
              "        text-align: right;\n",
              "    }\n",
              "</style>\n",
              "<table border=\"1\" class=\"dataframe\">\n",
              "  <thead>\n",
              "    <tr style=\"text-align: right;\">\n",
              "      <th></th>\n",
              "      <th>num_ret</th>\n",
              "      <th>num_rel</th>\n",
              "      <th>num_rel_ret</th>\n",
              "      <th>num_q</th>\n",
              "      <th>map</th>\n",
              "      <th>gm_map</th>\n",
              "      <th>bpref</th>\n",
              "      <th>Rprec</th>\n",
              "      <th>recip_rank</th>\n",
              "      <th>P@5</th>\n",
              "      <th>...</th>\n",
              "      <th>P@1000</th>\n",
              "      <th>NDCG@5</th>\n",
              "      <th>NDCG@10</th>\n",
              "      <th>NDCG@15</th>\n",
              "      <th>NDCG@20</th>\n",
              "      <th>NDCG@30</th>\n",
              "      <th>NDCG@100</th>\n",
              "      <th>NDCG@200</th>\n",
              "      <th>NDCG@500</th>\n",
              "      <th>NDCG@1000</th>\n",
              "    </tr>\n",
              "  </thead>\n",
              "  <tbody>\n",
              "    <tr>\n",
              "      <th>count</th>\n",
              "      <td>76.000000</td>\n",
              "      <td>76.000000</td>\n",
              "      <td>76.000000</td>\n",
              "      <td>76.0</td>\n",
              "      <td>76.000000</td>\n",
              "      <td>76.000000</td>\n",
              "      <td>76.000000</td>\n",
              "      <td>76.000000</td>\n",
              "      <td>76.000000</td>\n",
              "      <td>76.000000</td>\n",
              "      <td>...</td>\n",
              "      <td>76.000000</td>\n",
              "      <td>76.000000</td>\n",
              "      <td>76.000000</td>\n",
              "      <td>76.000000</td>\n",
              "      <td>76.000000</td>\n",
              "      <td>76.000000</td>\n",
              "      <td>76.000000</td>\n",
              "      <td>76.000000</td>\n",
              "      <td>76.000000</td>\n",
              "      <td>76.000000</td>\n",
              "    </tr>\n",
              "    <tr>\n",
              "      <th>mean</th>\n",
              "      <td>40.973684</td>\n",
              "      <td>40.934211</td>\n",
              "      <td>11.460526</td>\n",
              "      <td>1.0</td>\n",
              "      <td>0.141416</td>\n",
              "      <td>0.141417</td>\n",
              "      <td>0.007185</td>\n",
              "      <td>0.246858</td>\n",
              "      <td>0.653509</td>\n",
              "      <td>0.423684</td>\n",
              "      <td>...</td>\n",
              "      <td>0.011461</td>\n",
              "      <td>0.251832</td>\n",
              "      <td>0.236444</td>\n",
              "      <td>0.241536</td>\n",
              "      <td>0.240273</td>\n",
              "      <td>0.238188</td>\n",
              "      <td>0.248046</td>\n",
              "      <td>0.250120</td>\n",
              "      <td>0.250120</td>\n",
              "      <td>0.250120</td>\n",
              "    </tr>\n",
              "    <tr>\n",
              "      <th>std</th>\n",
              "      <td>36.171434</td>\n",
              "      <td>36.153132</td>\n",
              "      <td>12.641140</td>\n",
              "      <td>0.0</td>\n",
              "      <td>0.130799</td>\n",
              "      <td>0.130798</td>\n",
              "      <td>0.035874</td>\n",
              "      <td>0.151907</td>\n",
              "      <td>0.383039</td>\n",
              "      <td>0.293879</td>\n",
              "      <td>...</td>\n",
              "      <td>0.012641</td>\n",
              "      <td>0.221134</td>\n",
              "      <td>0.189573</td>\n",
              "      <td>0.182704</td>\n",
              "      <td>0.181047</td>\n",
              "      <td>0.176827</td>\n",
              "      <td>0.173580</td>\n",
              "      <td>0.173783</td>\n",
              "      <td>0.173783</td>\n",
              "      <td>0.173783</td>\n",
              "    </tr>\n",
              "    <tr>\n",
              "      <th>min</th>\n",
              "      <td>1.000000</td>\n",
              "      <td>1.000000</td>\n",
              "      <td>0.000000</td>\n",
              "      <td>1.0</td>\n",
              "      <td>0.000000</td>\n",
              "      <td>0.000010</td>\n",
              "      <td>0.000000</td>\n",
              "      <td>0.000000</td>\n",
              "      <td>0.000000</td>\n",
              "      <td>0.000000</td>\n",
              "      <td>...</td>\n",
              "      <td>0.000000</td>\n",
              "      <td>0.000000</td>\n",
              "      <td>0.000000</td>\n",
              "      <td>0.000000</td>\n",
              "      <td>0.000000</td>\n",
              "      <td>0.000000</td>\n",
              "      <td>0.000000</td>\n",
              "      <td>0.000000</td>\n",
              "      <td>0.000000</td>\n",
              "      <td>0.000000</td>\n",
              "    </tr>\n",
              "    <tr>\n",
              "      <th>25%</th>\n",
              "      <td>13.000000</td>\n",
              "      <td>13.000000</td>\n",
              "      <td>3.000000</td>\n",
              "      <td>1.0</td>\n",
              "      <td>0.044356</td>\n",
              "      <td>0.044356</td>\n",
              "      <td>0.000000</td>\n",
              "      <td>0.145089</td>\n",
              "      <td>0.333333</td>\n",
              "      <td>0.200000</td>\n",
              "      <td>...</td>\n",
              "      <td>0.003000</td>\n",
              "      <td>0.068260</td>\n",
              "      <td>0.094246</td>\n",
              "      <td>0.101756</td>\n",
              "      <td>0.101913</td>\n",
              "      <td>0.106783</td>\n",
              "      <td>0.124962</td>\n",
              "      <td>0.124962</td>\n",
              "      <td>0.124962</td>\n",
              "      <td>0.124962</td>\n",
              "    </tr>\n",
              "    <tr>\n",
              "      <th>50%</th>\n",
              "      <td>30.500000</td>\n",
              "      <td>30.500000</td>\n",
              "      <td>8.000000</td>\n",
              "      <td>1.0</td>\n",
              "      <td>0.104906</td>\n",
              "      <td>0.104906</td>\n",
              "      <td>0.000000</td>\n",
              "      <td>0.250000</td>\n",
              "      <td>1.000000</td>\n",
              "      <td>0.400000</td>\n",
              "      <td>...</td>\n",
              "      <td>0.008000</td>\n",
              "      <td>0.213069</td>\n",
              "      <td>0.205570</td>\n",
              "      <td>0.204963</td>\n",
              "      <td>0.208783</td>\n",
              "      <td>0.208463</td>\n",
              "      <td>0.232966</td>\n",
              "      <td>0.232966</td>\n",
              "      <td>0.232966</td>\n",
              "      <td>0.232966</td>\n",
              "    </tr>\n",
              "    <tr>\n",
              "      <th>75%</th>\n",
              "      <td>52.250000</td>\n",
              "      <td>52.250000</td>\n",
              "      <td>15.000000</td>\n",
              "      <td>1.0</td>\n",
              "      <td>0.211609</td>\n",
              "      <td>0.211609</td>\n",
              "      <td>0.000000</td>\n",
              "      <td>0.351972</td>\n",
              "      <td>1.000000</td>\n",
              "      <td>0.600000</td>\n",
              "      <td>...</td>\n",
              "      <td>0.015000</td>\n",
              "      <td>0.396157</td>\n",
              "      <td>0.380725</td>\n",
              "      <td>0.385079</td>\n",
              "      <td>0.373350</td>\n",
              "      <td>0.350057</td>\n",
              "      <td>0.384257</td>\n",
              "      <td>0.384257</td>\n",
              "      <td>0.384257</td>\n",
              "      <td>0.384257</td>\n",
              "    </tr>\n",
              "    <tr>\n",
              "      <th>max</th>\n",
              "      <td>155.000000</td>\n",
              "      <td>155.000000</td>\n",
              "      <td>54.000000</td>\n",
              "      <td>1.0</td>\n",
              "      <td>0.688633</td>\n",
              "      <td>0.688633</td>\n",
              "      <td>0.205128</td>\n",
              "      <td>0.722222</td>\n",
              "      <td>1.000000</td>\n",
              "      <td>1.000000</td>\n",
              "      <td>...</td>\n",
              "      <td>0.054000</td>\n",
              "      <td>0.923995</td>\n",
              "      <td>0.804301</td>\n",
              "      <td>0.813944</td>\n",
              "      <td>0.785362</td>\n",
              "      <td>0.778038</td>\n",
              "      <td>0.778038</td>\n",
              "      <td>0.778038</td>\n",
              "      <td>0.778038</td>\n",
              "      <td>0.778038</td>\n",
              "    </tr>\n",
              "  </tbody>\n",
              "</table>\n",
              "<p>8 rows × 27 columns</p>\n",
              "</div>\n",
              "      <button class=\"colab-df-convert\" onclick=\"convertToInteractive('df-f74c375f-3a77-4bc7-995a-6f1a23e1de00')\"\n",
              "              title=\"Convert this dataframe to an interactive table.\"\n",
              "              style=\"display:none;\">\n",
              "        \n",
              "  <svg xmlns=\"http://www.w3.org/2000/svg\" height=\"24px\"viewBox=\"0 0 24 24\"\n",
              "       width=\"24px\">\n",
              "    <path d=\"M0 0h24v24H0V0z\" fill=\"none\"/>\n",
              "    <path d=\"M18.56 5.44l.94 2.06.94-2.06 2.06-.94-2.06-.94-.94-2.06-.94 2.06-2.06.94zm-11 1L8.5 8.5l.94-2.06 2.06-.94-2.06-.94L8.5 2.5l-.94 2.06-2.06.94zm10 10l.94 2.06.94-2.06 2.06-.94-2.06-.94-.94-2.06-.94 2.06-2.06.94z\"/><path d=\"M17.41 7.96l-1.37-1.37c-.4-.4-.92-.59-1.43-.59-.52 0-1.04.2-1.43.59L10.3 9.45l-7.72 7.72c-.78.78-.78 2.05 0 2.83L4 21.41c.39.39.9.59 1.41.59.51 0 1.02-.2 1.41-.59l7.78-7.78 2.81-2.81c.8-.78.8-2.07 0-2.86zM5.41 20L4 18.59l7.72-7.72 1.47 1.35L5.41 20z\"/>\n",
              "  </svg>\n",
              "      </button>\n",
              "      \n",
              "  <style>\n",
              "    .colab-df-container {\n",
              "      display:flex;\n",
              "      flex-wrap:wrap;\n",
              "      gap: 12px;\n",
              "    }\n",
              "\n",
              "    .colab-df-convert {\n",
              "      background-color: #E8F0FE;\n",
              "      border: none;\n",
              "      border-radius: 50%;\n",
              "      cursor: pointer;\n",
              "      display: none;\n",
              "      fill: #1967D2;\n",
              "      height: 32px;\n",
              "      padding: 0 0 0 0;\n",
              "      width: 32px;\n",
              "    }\n",
              "\n",
              "    .colab-df-convert:hover {\n",
              "      background-color: #E2EBFA;\n",
              "      box-shadow: 0px 1px 2px rgba(60, 64, 67, 0.3), 0px 1px 3px 1px rgba(60, 64, 67, 0.15);\n",
              "      fill: #174EA6;\n",
              "    }\n",
              "\n",
              "    [theme=dark] .colab-df-convert {\n",
              "      background-color: #3B4455;\n",
              "      fill: #D2E3FC;\n",
              "    }\n",
              "\n",
              "    [theme=dark] .colab-df-convert:hover {\n",
              "      background-color: #434B5C;\n",
              "      box-shadow: 0px 1px 3px 1px rgba(0, 0, 0, 0.15);\n",
              "      filter: drop-shadow(0px 1px 2px rgba(0, 0, 0, 0.3));\n",
              "      fill: #FFFFFF;\n",
              "    }\n",
              "  </style>\n",
              "\n",
              "      <script>\n",
              "        const buttonEl =\n",
              "          document.querySelector('#df-f74c375f-3a77-4bc7-995a-6f1a23e1de00 button.colab-df-convert');\n",
              "        buttonEl.style.display =\n",
              "          google.colab.kernel.accessAllowed ? 'block' : 'none';\n",
              "\n",
              "        async function convertToInteractive(key) {\n",
              "          const element = document.querySelector('#df-f74c375f-3a77-4bc7-995a-6f1a23e1de00');\n",
              "          const dataTable =\n",
              "            await google.colab.kernel.invokeFunction('convertToInteractive',\n",
              "                                                     [key], {});\n",
              "          if (!dataTable) return;\n",
              "\n",
              "          const docLinkHtml = 'Like what you see? Visit the ' +\n",
              "            '<a target=\"_blank\" href=https://colab.research.google.com/notebooks/data_table.ipynb>data table notebook</a>'\n",
              "            + ' to learn more about interactive tables.';\n",
              "          element.innerHTML = '';\n",
              "          dataTable['output_type'] = 'display_data';\n",
              "          await google.colab.output.renderOutput(dataTable, element);\n",
              "          const docLink = document.createElement('div');\n",
              "          docLink.innerHTML = docLinkHtml;\n",
              "          element.appendChild(docLink);\n",
              "        }\n",
              "      </script>\n",
              "    </div>\n",
              "  </div>\n",
              "  "
            ]
          },
          "metadata": {},
          "execution_count": 23
        }
      ]
    },
    {
      "cell_type": "markdown",
      "source": [
        "Como pode ser observado, a média do `recip_rank` no `.describe()` do dataframe de métricas bate (aproximadamente) com o `MRR@10` calculado separadamente.\n",
        "\n",
        "No próximo notebook vou encapsular todas as etapas deste notebook em uma classe única responsável pela lógica da Search Engine."
      ],
      "metadata": {
        "id": "r9GJokKP__6D"
      }
    },
    {
      "cell_type": "code",
      "source": [],
      "metadata": {
        "id": "jMSobyzHqgYx"
      },
      "execution_count": 23,
      "outputs": []
    }
  ]
}